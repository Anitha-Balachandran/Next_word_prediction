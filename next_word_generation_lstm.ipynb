{
  "nbformat": 4,
  "nbformat_minor": 0,
  "metadata": {
    "colab": {
      "provenance": [],
      "gpuType": "T4"
    },
    "kernelspec": {
      "name": "python3",
      "display_name": "Python 3"
    },
    "language_info": {
      "name": "python"
    },
    "accelerator": "GPU"
  },
  "cells": [
    {
      "cell_type": "markdown",
      "source": [
        "## Project Description: Next Word Prediction Using LSTM\n",
        "#### Project Overview:\n",
        "\n",
        "This project aims to develop a deep learning model for predicting the next word in a given sequence of words. The model is built using Long Short-Term Memory (LSTM) networks, which are well-suited for sequence prediction tasks. The project includes the following steps:\n",
        "\n",
        "1- Data Collection: We use the text of Shakespeare's \"Hamlet\" as our dataset. This rich, complex text provides a good challenge for our model.\n",
        "\n",
        "2- Data Preprocessing: The text data is tokenized, converted into sequences, and padded to ensure uniform input lengths. The sequences are then split into training and testing sets.\n",
        "\n",
        "3- Model Building: An LSTM model is constructed with an embedding layer, two LSTM layers, and a dense output layer with a softmax activation function to predict the probability of the next word.\n",
        "\n",
        "4- Model Training: The model is trained using the prepared sequences, with early stopping implemented to prevent overfitting. Early stopping monitors the validation loss and stops training when the loss stops improving.\n",
        "\n",
        "5- Model Evaluation: The model is evaluated using a set of example sentences to test its ability to predict the next word accurately.\n",
        "\n",
        "6- Deployment: A Streamlit web application is developed to allow users to input a sequence of words and get the predicted next word in real-time."
      ],
      "metadata": {
        "id": "uUEKWG4fT81Y"
      }
    },
    {
      "cell_type": "code",
      "execution_count": 3,
      "metadata": {
        "id": "KuOGxXdVSXqB",
        "colab": {
          "base_uri": "https://localhost:8080/"
        },
        "outputId": "846a964d-69fb-48d4-f375-6e59a9194961"
      },
      "outputs": [
        {
          "output_type": "stream",
          "name": "stdout",
          "text": [
            "Drive already mounted at /content/drive; to attempt to forcibly remount, call drive.mount(\"/content/drive\", force_remount=True).\n",
            "Current directory is: /content/drive/My Drive/Machine Learning/RNN\n"
          ]
        }
      ],
      "source": [
        "from google.colab import drive\n",
        "import os\n",
        "\n",
        "# Mount Google Drive\n",
        "drive.mount('/content/drive')\n",
        "\n",
        "# Set the new directory path\n",
        "new_directory = '/content/drive/My Drive/Machine Learning/RNN'\n",
        "\n",
        "# Change the current working directory\n",
        "os.chdir(new_directory)\n",
        "\n",
        "# Verify the change\n",
        "print(f\"Current directory is: {os.getcwd()}\")"
      ]
    },
    {
      "cell_type": "code",
      "source": [
        "pip install  -r requirements.txt"
      ],
      "metadata": {
        "colab": {
          "base_uri": "https://localhost:8080/"
        },
        "id": "NxNJZeXtTpo-",
        "outputId": "b61236af-f029-4321-87cf-422a13fa9f87"
      },
      "execution_count": 3,
      "outputs": [
        {
          "output_type": "stream",
          "name": "stdout",
          "text": [
            "Collecting tensorflow==2.15.0 (from -r requirements.txt (line 1))\n",
            "  Downloading tensorflow-2.15.0-cp310-cp310-manylinux_2_17_x86_64.manylinux2014_x86_64.whl.metadata (4.4 kB)\n",
            "Requirement already satisfied: pandas in /usr/local/lib/python3.10/dist-packages (from -r requirements.txt (line 2)) (2.2.2)\n",
            "Requirement already satisfied: numpy in /usr/local/lib/python3.10/dist-packages (from -r requirements.txt (line 3)) (1.26.4)\n",
            "Requirement already satisfied: scikit-learn in /usr/local/lib/python3.10/dist-packages (from -r requirements.txt (line 4)) (1.6.0)\n",
            "Requirement already satisfied: tensorboard in /usr/local/lib/python3.10/dist-packages (from -r requirements.txt (line 5)) (2.17.1)\n",
            "Requirement already satisfied: matplotlib in /usr/local/lib/python3.10/dist-packages (from -r requirements.txt (line 6)) (3.8.0)\n",
            "Collecting streamlit (from -r requirements.txt (line 7))\n",
            "  Downloading streamlit-1.41.1-py2.py3-none-any.whl.metadata (8.5 kB)\n",
            "Collecting scikeras (from -r requirements.txt (line 8))\n",
            "  Downloading scikeras-0.13.0-py3-none-any.whl.metadata (3.1 kB)\n",
            "Requirement already satisfied: absl-py>=1.0.0 in /usr/local/lib/python3.10/dist-packages (from tensorflow==2.15.0->-r requirements.txt (line 1)) (1.4.0)\n",
            "Requirement already satisfied: astunparse>=1.6.0 in /usr/local/lib/python3.10/dist-packages (from tensorflow==2.15.0->-r requirements.txt (line 1)) (1.6.3)\n",
            "Requirement already satisfied: flatbuffers>=23.5.26 in /usr/local/lib/python3.10/dist-packages (from tensorflow==2.15.0->-r requirements.txt (line 1)) (24.3.25)\n",
            "Requirement already satisfied: gast!=0.5.0,!=0.5.1,!=0.5.2,>=0.2.1 in /usr/local/lib/python3.10/dist-packages (from tensorflow==2.15.0->-r requirements.txt (line 1)) (0.6.0)\n",
            "Requirement already satisfied: google-pasta>=0.1.1 in /usr/local/lib/python3.10/dist-packages (from tensorflow==2.15.0->-r requirements.txt (line 1)) (0.2.0)\n",
            "Requirement already satisfied: h5py>=2.9.0 in /usr/local/lib/python3.10/dist-packages (from tensorflow==2.15.0->-r requirements.txt (line 1)) (3.12.1)\n",
            "Requirement already satisfied: libclang>=13.0.0 in /usr/local/lib/python3.10/dist-packages (from tensorflow==2.15.0->-r requirements.txt (line 1)) (18.1.1)\n",
            "Collecting ml-dtypes~=0.2.0 (from tensorflow==2.15.0->-r requirements.txt (line 1))\n",
            "  Downloading ml_dtypes-0.2.0-cp310-cp310-manylinux_2_17_x86_64.manylinux2014_x86_64.whl.metadata (20 kB)\n",
            "Requirement already satisfied: opt-einsum>=2.3.2 in /usr/local/lib/python3.10/dist-packages (from tensorflow==2.15.0->-r requirements.txt (line 1)) (3.4.0)\n",
            "Requirement already satisfied: packaging in /usr/local/lib/python3.10/dist-packages (from tensorflow==2.15.0->-r requirements.txt (line 1)) (24.2)\n",
            "Requirement already satisfied: protobuf!=4.21.0,!=4.21.1,!=4.21.2,!=4.21.3,!=4.21.4,!=4.21.5,<5.0.0dev,>=3.20.3 in /usr/local/lib/python3.10/dist-packages (from tensorflow==2.15.0->-r requirements.txt (line 1)) (4.25.5)\n",
            "Requirement already satisfied: setuptools in /usr/local/lib/python3.10/dist-packages (from tensorflow==2.15.0->-r requirements.txt (line 1)) (75.1.0)\n",
            "Requirement already satisfied: six>=1.12.0 in /usr/local/lib/python3.10/dist-packages (from tensorflow==2.15.0->-r requirements.txt (line 1)) (1.17.0)\n",
            "Requirement already satisfied: termcolor>=1.1.0 in /usr/local/lib/python3.10/dist-packages (from tensorflow==2.15.0->-r requirements.txt (line 1)) (2.5.0)\n",
            "Requirement already satisfied: typing-extensions>=3.6.6 in /usr/local/lib/python3.10/dist-packages (from tensorflow==2.15.0->-r requirements.txt (line 1)) (4.12.2)\n",
            "Collecting wrapt<1.15,>=1.11.0 (from tensorflow==2.15.0->-r requirements.txt (line 1))\n",
            "  Downloading wrapt-1.14.1-cp310-cp310-manylinux_2_5_x86_64.manylinux1_x86_64.manylinux_2_17_x86_64.manylinux2014_x86_64.whl.metadata (6.7 kB)\n",
            "Requirement already satisfied: tensorflow-io-gcs-filesystem>=0.23.1 in /usr/local/lib/python3.10/dist-packages (from tensorflow==2.15.0->-r requirements.txt (line 1)) (0.37.1)\n",
            "Requirement already satisfied: grpcio<2.0,>=1.24.3 in /usr/local/lib/python3.10/dist-packages (from tensorflow==2.15.0->-r requirements.txt (line 1)) (1.68.1)\n",
            "Collecting tensorboard (from -r requirements.txt (line 5))\n",
            "  Downloading tensorboard-2.15.2-py3-none-any.whl.metadata (1.7 kB)\n",
            "Collecting tensorflow-estimator<2.16,>=2.15.0 (from tensorflow==2.15.0->-r requirements.txt (line 1))\n",
            "  Downloading tensorflow_estimator-2.15.0-py2.py3-none-any.whl.metadata (1.3 kB)\n",
            "Collecting keras<2.16,>=2.15.0 (from tensorflow==2.15.0->-r requirements.txt (line 1))\n",
            "  Downloading keras-2.15.0-py3-none-any.whl.metadata (2.4 kB)\n",
            "Requirement already satisfied: python-dateutil>=2.8.2 in /usr/local/lib/python3.10/dist-packages (from pandas->-r requirements.txt (line 2)) (2.8.2)\n",
            "Requirement already satisfied: pytz>=2020.1 in /usr/local/lib/python3.10/dist-packages (from pandas->-r requirements.txt (line 2)) (2024.2)\n",
            "Requirement already satisfied: tzdata>=2022.7 in /usr/local/lib/python3.10/dist-packages (from pandas->-r requirements.txt (line 2)) (2024.2)\n",
            "Requirement already satisfied: scipy>=1.6.0 in /usr/local/lib/python3.10/dist-packages (from scikit-learn->-r requirements.txt (line 4)) (1.13.1)\n",
            "Requirement already satisfied: joblib>=1.2.0 in /usr/local/lib/python3.10/dist-packages (from scikit-learn->-r requirements.txt (line 4)) (1.4.2)\n",
            "Requirement already satisfied: threadpoolctl>=3.1.0 in /usr/local/lib/python3.10/dist-packages (from scikit-learn->-r requirements.txt (line 4)) (3.5.0)\n",
            "Requirement already satisfied: google-auth<3,>=1.6.3 in /usr/local/lib/python3.10/dist-packages (from tensorboard->-r requirements.txt (line 5)) (2.27.0)\n",
            "Requirement already satisfied: google-auth-oauthlib<2,>=0.5 in /usr/local/lib/python3.10/dist-packages (from tensorboard->-r requirements.txt (line 5)) (1.2.1)\n",
            "Requirement already satisfied: markdown>=2.6.8 in /usr/local/lib/python3.10/dist-packages (from tensorboard->-r requirements.txt (line 5)) (3.7)\n",
            "Requirement already satisfied: requests<3,>=2.21.0 in /usr/local/lib/python3.10/dist-packages (from tensorboard->-r requirements.txt (line 5)) (2.32.3)\n",
            "Requirement already satisfied: tensorboard-data-server<0.8.0,>=0.7.0 in /usr/local/lib/python3.10/dist-packages (from tensorboard->-r requirements.txt (line 5)) (0.7.2)\n",
            "Requirement already satisfied: werkzeug>=1.0.1 in /usr/local/lib/python3.10/dist-packages (from tensorboard->-r requirements.txt (line 5)) (3.1.3)\n",
            "Requirement already satisfied: contourpy>=1.0.1 in /usr/local/lib/python3.10/dist-packages (from matplotlib->-r requirements.txt (line 6)) (1.3.1)\n",
            "Requirement already satisfied: cycler>=0.10 in /usr/local/lib/python3.10/dist-packages (from matplotlib->-r requirements.txt (line 6)) (0.12.1)\n",
            "Requirement already satisfied: fonttools>=4.22.0 in /usr/local/lib/python3.10/dist-packages (from matplotlib->-r requirements.txt (line 6)) (4.55.3)\n",
            "Requirement already satisfied: kiwisolver>=1.0.1 in /usr/local/lib/python3.10/dist-packages (from matplotlib->-r requirements.txt (line 6)) (1.4.7)\n",
            "Requirement already satisfied: pillow>=6.2.0 in /usr/local/lib/python3.10/dist-packages (from matplotlib->-r requirements.txt (line 6)) (11.0.0)\n",
            "Requirement already satisfied: pyparsing>=2.3.1 in /usr/local/lib/python3.10/dist-packages (from matplotlib->-r requirements.txt (line 6)) (3.2.0)\n",
            "Requirement already satisfied: altair<6,>=4.0 in /usr/local/lib/python3.10/dist-packages (from streamlit->-r requirements.txt (line 7)) (5.5.0)\n",
            "Requirement already satisfied: blinker<2,>=1.0.0 in /usr/local/lib/python3.10/dist-packages (from streamlit->-r requirements.txt (line 7)) (1.9.0)\n",
            "Requirement already satisfied: cachetools<6,>=4.0 in /usr/local/lib/python3.10/dist-packages (from streamlit->-r requirements.txt (line 7)) (5.5.0)\n",
            "Requirement already satisfied: click<9,>=7.0 in /usr/local/lib/python3.10/dist-packages (from streamlit->-r requirements.txt (line 7)) (8.1.7)\n",
            "Requirement already satisfied: pyarrow>=7.0 in /usr/local/lib/python3.10/dist-packages (from streamlit->-r requirements.txt (line 7)) (17.0.0)\n",
            "Requirement already satisfied: rich<14,>=10.14.0 in /usr/local/lib/python3.10/dist-packages (from streamlit->-r requirements.txt (line 7)) (13.9.4)\n",
            "Requirement already satisfied: tenacity<10,>=8.1.0 in /usr/local/lib/python3.10/dist-packages (from streamlit->-r requirements.txt (line 7)) (9.0.0)\n",
            "Requirement already satisfied: toml<2,>=0.10.1 in /usr/local/lib/python3.10/dist-packages (from streamlit->-r requirements.txt (line 7)) (0.10.2)\n",
            "Collecting watchdog<7,>=2.1.5 (from streamlit->-r requirements.txt (line 7))\n",
            "  Downloading watchdog-6.0.0-py3-none-manylinux2014_x86_64.whl.metadata (44 kB)\n",
            "\u001b[2K     \u001b[90m━━━━━━━━━━━━━━━━━━━━━━━━━━━━━━━━━━━━━━━━\u001b[0m \u001b[32m44.3/44.3 kB\u001b[0m \u001b[31m3.9 MB/s\u001b[0m eta \u001b[36m0:00:00\u001b[0m\n",
            "\u001b[?25hRequirement already satisfied: gitpython!=3.1.19,<4,>=3.0.7 in /usr/local/lib/python3.10/dist-packages (from streamlit->-r requirements.txt (line 7)) (3.1.43)\n",
            "Collecting pydeck<1,>=0.8.0b4 (from streamlit->-r requirements.txt (line 7))\n",
            "  Downloading pydeck-0.9.1-py2.py3-none-any.whl.metadata (4.1 kB)\n",
            "Requirement already satisfied: tornado<7,>=6.0.3 in /usr/local/lib/python3.10/dist-packages (from streamlit->-r requirements.txt (line 7)) (6.3.3)\n",
            "INFO: pip is looking at multiple versions of scikeras to determine which version is compatible with other requirements. This could take a while.\n",
            "Collecting scikeras (from -r requirements.txt (line 8))\n",
            "  Downloading scikeras-0.12.0-py3-none-any.whl.metadata (4.0 kB)\n",
            "Requirement already satisfied: jinja2 in /usr/local/lib/python3.10/dist-packages (from altair<6,>=4.0->streamlit->-r requirements.txt (line 7)) (3.1.4)\n",
            "Requirement already satisfied: jsonschema>=3.0 in /usr/local/lib/python3.10/dist-packages (from altair<6,>=4.0->streamlit->-r requirements.txt (line 7)) (4.23.0)\n",
            "Requirement already satisfied: narwhals>=1.14.2 in /usr/local/lib/python3.10/dist-packages (from altair<6,>=4.0->streamlit->-r requirements.txt (line 7)) (1.18.4)\n",
            "Requirement already satisfied: wheel<1.0,>=0.23.0 in /usr/local/lib/python3.10/dist-packages (from astunparse>=1.6.0->tensorflow==2.15.0->-r requirements.txt (line 1)) (0.45.1)\n",
            "Requirement already satisfied: gitdb<5,>=4.0.1 in /usr/local/lib/python3.10/dist-packages (from gitpython!=3.1.19,<4,>=3.0.7->streamlit->-r requirements.txt (line 7)) (4.0.11)\n",
            "Requirement already satisfied: pyasn1-modules>=0.2.1 in /usr/local/lib/python3.10/dist-packages (from google-auth<3,>=1.6.3->tensorboard->-r requirements.txt (line 5)) (0.4.1)\n",
            "Requirement already satisfied: rsa<5,>=3.1.4 in /usr/local/lib/python3.10/dist-packages (from google-auth<3,>=1.6.3->tensorboard->-r requirements.txt (line 5)) (4.9)\n",
            "Requirement already satisfied: requests-oauthlib>=0.7.0 in /usr/local/lib/python3.10/dist-packages (from google-auth-oauthlib<2,>=0.5->tensorboard->-r requirements.txt (line 5)) (1.3.1)\n",
            "Requirement already satisfied: charset-normalizer<4,>=2 in /usr/local/lib/python3.10/dist-packages (from requests<3,>=2.21.0->tensorboard->-r requirements.txt (line 5)) (3.4.0)\n",
            "Requirement already satisfied: idna<4,>=2.5 in /usr/local/lib/python3.10/dist-packages (from requests<3,>=2.21.0->tensorboard->-r requirements.txt (line 5)) (3.10)\n",
            "Requirement already satisfied: urllib3<3,>=1.21.1 in /usr/local/lib/python3.10/dist-packages (from requests<3,>=2.21.0->tensorboard->-r requirements.txt (line 5)) (2.2.3)\n",
            "Requirement already satisfied: certifi>=2017.4.17 in /usr/local/lib/python3.10/dist-packages (from requests<3,>=2.21.0->tensorboard->-r requirements.txt (line 5)) (2024.12.14)\n",
            "Requirement already satisfied: markdown-it-py>=2.2.0 in /usr/local/lib/python3.10/dist-packages (from rich<14,>=10.14.0->streamlit->-r requirements.txt (line 7)) (3.0.0)\n",
            "Requirement already satisfied: pygments<3.0.0,>=2.13.0 in /usr/local/lib/python3.10/dist-packages (from rich<14,>=10.14.0->streamlit->-r requirements.txt (line 7)) (2.18.0)\n",
            "Requirement already satisfied: MarkupSafe>=2.1.1 in /usr/local/lib/python3.10/dist-packages (from werkzeug>=1.0.1->tensorboard->-r requirements.txt (line 5)) (3.0.2)\n",
            "Requirement already satisfied: smmap<6,>=3.0.1 in /usr/local/lib/python3.10/dist-packages (from gitdb<5,>=4.0.1->gitpython!=3.1.19,<4,>=3.0.7->streamlit->-r requirements.txt (line 7)) (5.0.1)\n",
            "Requirement already satisfied: attrs>=22.2.0 in /usr/local/lib/python3.10/dist-packages (from jsonschema>=3.0->altair<6,>=4.0->streamlit->-r requirements.txt (line 7)) (24.3.0)\n",
            "Requirement already satisfied: jsonschema-specifications>=2023.03.6 in /usr/local/lib/python3.10/dist-packages (from jsonschema>=3.0->altair<6,>=4.0->streamlit->-r requirements.txt (line 7)) (2024.10.1)\n",
            "Requirement already satisfied: referencing>=0.28.4 in /usr/local/lib/python3.10/dist-packages (from jsonschema>=3.0->altair<6,>=4.0->streamlit->-r requirements.txt (line 7)) (0.35.1)\n",
            "Requirement already satisfied: rpds-py>=0.7.1 in /usr/local/lib/python3.10/dist-packages (from jsonschema>=3.0->altair<6,>=4.0->streamlit->-r requirements.txt (line 7)) (0.22.3)\n",
            "Requirement already satisfied: mdurl~=0.1 in /usr/local/lib/python3.10/dist-packages (from markdown-it-py>=2.2.0->rich<14,>=10.14.0->streamlit->-r requirements.txt (line 7)) (0.1.2)\n",
            "Requirement already satisfied: pyasn1<0.7.0,>=0.4.6 in /usr/local/lib/python3.10/dist-packages (from pyasn1-modules>=0.2.1->google-auth<3,>=1.6.3->tensorboard->-r requirements.txt (line 5)) (0.6.1)\n",
            "Requirement already satisfied: oauthlib>=3.0.0 in /usr/local/lib/python3.10/dist-packages (from requests-oauthlib>=0.7.0->google-auth-oauthlib<2,>=0.5->tensorboard->-r requirements.txt (line 5)) (3.2.2)\n",
            "Downloading tensorflow-2.15.0-cp310-cp310-manylinux_2_17_x86_64.manylinux2014_x86_64.whl (475.2 MB)\n",
            "\u001b[2K   \u001b[90m━━━━━━━━━━━━━━━━━━━━━━━━━━━━━━━━━━━━━━━━\u001b[0m \u001b[32m475.2/475.2 MB\u001b[0m \u001b[31m3.8 MB/s\u001b[0m eta \u001b[36m0:00:00\u001b[0m\n",
            "\u001b[?25hDownloading tensorboard-2.15.2-py3-none-any.whl (5.5 MB)\n",
            "\u001b[2K   \u001b[90m━━━━━━━━━━━━━━━━━━━━━━━━━━━━━━━━━━━━━━━━\u001b[0m \u001b[32m5.5/5.5 MB\u001b[0m \u001b[31m23.1 MB/s\u001b[0m eta \u001b[36m0:00:00\u001b[0m\n",
            "\u001b[?25hDownloading streamlit-1.41.1-py2.py3-none-any.whl (9.1 MB)\n",
            "\u001b[2K   \u001b[90m━━━━━━━━━━━━━━━━━━━━━━━━━━━━━━━━━━━━━━━━\u001b[0m \u001b[32m9.1/9.1 MB\u001b[0m \u001b[31m93.4 MB/s\u001b[0m eta \u001b[36m0:00:00\u001b[0m\n",
            "\u001b[?25hDownloading scikeras-0.12.0-py3-none-any.whl (27 kB)\n",
            "Downloading keras-2.15.0-py3-none-any.whl (1.7 MB)\n",
            "\u001b[2K   \u001b[90m━━━━━━━━━━━━━━━━━━━━━━━━━━━━━━━━━━━━━━━━\u001b[0m \u001b[32m1.7/1.7 MB\u001b[0m \u001b[31m73.0 MB/s\u001b[0m eta \u001b[36m0:00:00\u001b[0m\n",
            "\u001b[?25hDownloading ml_dtypes-0.2.0-cp310-cp310-manylinux_2_17_x86_64.manylinux2014_x86_64.whl (1.0 MB)\n",
            "\u001b[2K   \u001b[90m━━━━━━━━━━━━━━━━━━━━━━━━━━━━━━━━━━━━━━━━\u001b[0m \u001b[32m1.0/1.0 MB\u001b[0m \u001b[31m62.3 MB/s\u001b[0m eta \u001b[36m0:00:00\u001b[0m\n",
            "\u001b[?25hDownloading pydeck-0.9.1-py2.py3-none-any.whl (6.9 MB)\n",
            "\u001b[2K   \u001b[90m━━━━━━━━━━━━━━━━━━━━━━━━━━━━━━━━━━━━━━━━\u001b[0m \u001b[32m6.9/6.9 MB\u001b[0m \u001b[31m89.3 MB/s\u001b[0m eta \u001b[36m0:00:00\u001b[0m\n",
            "\u001b[?25hDownloading tensorflow_estimator-2.15.0-py2.py3-none-any.whl (441 kB)\n",
            "\u001b[2K   \u001b[90m━━━━━━━━━━━━━━━━━━━━━━━━━━━━━━━━━━━━━━━━\u001b[0m \u001b[32m442.0/442.0 kB\u001b[0m \u001b[31m38.1 MB/s\u001b[0m eta \u001b[36m0:00:00\u001b[0m\n",
            "\u001b[?25hDownloading watchdog-6.0.0-py3-none-manylinux2014_x86_64.whl (79 kB)\n",
            "\u001b[2K   \u001b[90m━━━━━━━━━━━━━━━━━━━━━━━━━━━━━━━━━━━━━━━━\u001b[0m \u001b[32m79.1/79.1 kB\u001b[0m \u001b[31m8.3 MB/s\u001b[0m eta \u001b[36m0:00:00\u001b[0m\n",
            "\u001b[?25hDownloading wrapt-1.14.1-cp310-cp310-manylinux_2_5_x86_64.manylinux1_x86_64.manylinux_2_17_x86_64.manylinux2014_x86_64.whl (77 kB)\n",
            "\u001b[2K   \u001b[90m━━━━━━━━━━━━━━━━━━━━━━━━━━━━━━━━━━━━━━━━\u001b[0m \u001b[32m77.9/77.9 kB\u001b[0m \u001b[31m8.9 MB/s\u001b[0m eta \u001b[36m0:00:00\u001b[0m\n",
            "\u001b[?25hInstalling collected packages: wrapt, watchdog, tensorflow-estimator, ml-dtypes, keras, pydeck, scikeras, tensorboard, tensorflow, streamlit\n",
            "  Attempting uninstall: wrapt\n",
            "    Found existing installation: wrapt 1.17.0\n",
            "    Uninstalling wrapt-1.17.0:\n",
            "      Successfully uninstalled wrapt-1.17.0\n",
            "  Attempting uninstall: ml-dtypes\n",
            "    Found existing installation: ml-dtypes 0.4.1\n",
            "    Uninstalling ml-dtypes-0.4.1:\n",
            "      Successfully uninstalled ml-dtypes-0.4.1\n",
            "  Attempting uninstall: keras\n",
            "    Found existing installation: keras 3.5.0\n",
            "    Uninstalling keras-3.5.0:\n",
            "      Successfully uninstalled keras-3.5.0\n",
            "  Attempting uninstall: tensorboard\n",
            "    Found existing installation: tensorboard 2.17.1\n",
            "    Uninstalling tensorboard-2.17.1:\n",
            "      Successfully uninstalled tensorboard-2.17.1\n",
            "  Attempting uninstall: tensorflow\n",
            "    Found existing installation: tensorflow 2.17.1\n",
            "    Uninstalling tensorflow-2.17.1:\n",
            "      Successfully uninstalled tensorflow-2.17.1\n",
            "\u001b[31mERROR: pip's dependency resolver does not currently take into account all the packages that are installed. This behaviour is the source of the following dependency conflicts.\n",
            "tensorstore 0.1.71 requires ml_dtypes>=0.3.1, but you have ml-dtypes 0.2.0 which is incompatible.\n",
            "tf-keras 2.17.0 requires tensorflow<2.18,>=2.17, but you have tensorflow 2.15.0 which is incompatible.\u001b[0m\u001b[31m\n",
            "\u001b[0mSuccessfully installed keras-2.15.0 ml-dtypes-0.2.0 pydeck-0.9.1 scikeras-0.12.0 streamlit-1.41.1 tensorboard-2.15.2 tensorflow-2.15.0 tensorflow-estimator-2.15.0 watchdog-6.0.0 wrapt-1.14.1\n"
          ]
        }
      ]
    },
    {
      "cell_type": "markdown",
      "source": [
        "# **Data Collection**"
      ],
      "metadata": {
        "id": "YTKJ1G4aVML8"
      }
    },
    {
      "cell_type": "code",
      "source": [
        "import nltk\n",
        "nltk.download('gutenberg')\n",
        "from nltk.corpus import gutenberg\n",
        "import pandas as pd\n",
        "# Data Loading\n",
        "data = gutenberg.raw('shakespeare-hamlet.txt')\n",
        "# Save to a file\n",
        "with open('hamlet.txt', 'w') as f:\n",
        "  f.write(data)"
      ],
      "metadata": {
        "colab": {
          "base_uri": "https://localhost:8080/"
        },
        "id": "RsQFHa7FTz7Y",
        "outputId": "5199ba2f-bf94-4988-c4b1-82a4b3884de3"
      },
      "execution_count": 4,
      "outputs": [
        {
          "output_type": "stream",
          "name": "stderr",
          "text": [
            "[nltk_data] Downloading package gutenberg to /root/nltk_data...\n",
            "[nltk_data]   Package gutenberg is already up-to-date!\n"
          ]
        }
      ]
    },
    {
      "cell_type": "markdown",
      "source": [
        "# Data **Preprocessing**"
      ],
      "metadata": {
        "id": "tHb2EtsWV-pi"
      }
    },
    {
      "cell_type": "code",
      "source": [
        "import numpy as np\n",
        "import tensorflow as tf\n",
        "from tensorflow.keras.preprocessing.text import Tokenizer\n",
        "from tensorflow.keras.preprocessing.sequence import pad_sequences\n",
        "from sklearn.model_selection import train_test_split\n",
        "from tensorflow.keras.models import Sequential\n",
        "from tensorflow.keras.layers import Embedding, LSTM, Dense"
      ],
      "metadata": {
        "id": "ZgKP8FwdVd-S"
      },
      "execution_count": 5,
      "outputs": []
    },
    {
      "cell_type": "code",
      "source": [
        "# Load the dataset\n",
        "with open('hamlet.txt','r') as f:\n",
        "  text = f.read().lower()\n",
        "print(text[:500])"
      ],
      "metadata": {
        "colab": {
          "base_uri": "https://localhost:8080/"
        },
        "id": "DX1dUqBtWKSF",
        "outputId": "d0bff936-6d53-456e-b9fb-c01117b0ce0f"
      },
      "execution_count": 6,
      "outputs": [
        {
          "output_type": "stream",
          "name": "stdout",
          "text": [
            "[the tragedie of hamlet by william shakespeare 1599]\n",
            "\n",
            "\n",
            "actus primus. scoena prima.\n",
            "\n",
            "enter barnardo and francisco two centinels.\n",
            "\n",
            "  barnardo. who's there?\n",
            "  fran. nay answer me: stand & vnfold\n",
            "your selfe\n",
            "\n",
            "   bar. long liue the king\n",
            "\n",
            "   fran. barnardo?\n",
            "  bar. he\n",
            "\n",
            "   fran. you come most carefully vpon your houre\n",
            "\n",
            "   bar. 'tis now strook twelue, get thee to bed francisco\n",
            "\n",
            "   fran. for this releefe much thankes: 'tis bitter cold,\n",
            "and i am sicke at heart\n",
            "\n",
            "   barn. haue you had quiet guard?\n",
            "  fran. not\n"
          ]
        }
      ]
    },
    {
      "cell_type": "code",
      "source": [
        "# Tokenize the text\n",
        "tokenizer = Tokenizer() # creating indexes for words\n",
        "# Tokenizer creates a word index (a dictionary) during fit_on_texts().\n",
        "# Each word in the corpus is assigned a unique integer, often in order of frequency.\n",
        "tokenizer.fit_on_texts([text])\n",
        "total_words = len(tokenizer.word_index) + 1\n",
        "print(total_words)"
      ],
      "metadata": {
        "colab": {
          "base_uri": "https://localhost:8080/"
        },
        "id": "DVsLCUFxWkmJ",
        "outputId": "27dfdc2f-68d3-471a-af11-38fa49cea652"
      },
      "execution_count": 7,
      "outputs": [
        {
          "output_type": "stream",
          "name": "stdout",
          "text": [
            "4818\n"
          ]
        }
      ]
    },
    {
      "cell_type": "code",
      "source": [
        "print(tokenizer.word_index)"
      ],
      "metadata": {
        "colab": {
          "base_uri": "https://localhost:8080/"
        },
        "id": "n5mG1pABW6Pe",
        "outputId": "08a8f392-faff-48fc-d29a-4a8279536644"
      },
      "execution_count": 8,
      "outputs": [
        {
          "output_type": "stream",
          "name": "stdout",
          "text": [
            "{'the': 1, 'and': 2, 'to': 3, 'of': 4, 'i': 5, 'you': 6, 'a': 7, 'my': 8, 'it': 9, 'in': 10, 'that': 11, 'ham': 12, 'is': 13, 'not': 14, 'his': 15, 'this': 16, 'with': 17, 'your': 18, 'but': 19, 'for': 20, 'me': 21, 'lord': 22, 'as': 23, 'what': 24, 'he': 25, 'be': 26, 'so': 27, 'him': 28, 'haue': 29, 'king': 30, 'will': 31, 'no': 32, 'our': 33, 'we': 34, 'on': 35, 'are': 36, 'if': 37, 'all': 38, 'then': 39, 'shall': 40, 'by': 41, 'thou': 42, 'come': 43, 'or': 44, 'hamlet': 45, 'good': 46, 'do': 47, 'hor': 48, 'her': 49, 'let': 50, 'now': 51, 'thy': 52, 'how': 53, 'more': 54, 'they': 55, 'from': 56, 'enter': 57, 'at': 58, 'was': 59, 'oh': 60, 'like': 61, 'most': 62, 'there': 63, 'well': 64, 'know': 65, 'selfe': 66, 'would': 67, 'them': 68, 'loue': 69, 'may': 70, \"'tis\": 71, 'vs': 72, 'sir': 73, 'qu': 74, 'which': 75, 'did': 76, 'why': 77, 'laer': 78, 'giue': 79, 'thee': 80, 'ile': 81, 'must': 82, 'hath': 83, 'ophe': 84, 'speake': 85, 'out': 86, 'make': 87, 'should': 88, 'where': 89, 'too': 90, 'an': 91, 'am': 92, 'such': 93, 'say': 94, 'when': 95, 'vpon': 96, 'father': 97, 'doe': 98, 'very': 99, 'pol': 100, 'go': 101, 'their': 102, 'one': 103, 'man': 104, 'see': 105, 'some': 106, 'heere': 107, 'had': 108, 'heauen': 109, 'time': 110, 'mine': 111, 'these': 112, 'she': 113, 'much': 114, 'tell': 115, 'rosin': 116, 'thinke': 117, 'play': 118, 'thus': 119, 'horatio': 120, 'who': 121, 'mother': 122, 'queene': 123, 'night': 124, 'o': 125, 'polon': 126, 'yet': 127, 'vp': 128, 'death': 129, 'laertes': 130, 'againe': 131, 'can': 132, 'both': 133, \"th'\": 134, 'soule': 135, 'take': 136, 'life': 137, 'nor': 138, 'heare': 139, 'mar': 140, 'looke': 141, 'owne': 142, 'could': 143, 'heart': 144, 'dead': 145, 'might': 146, 'made': 147, 'clo': 148, 'hast': 149, 'downe': 150, 'pray': 151, 'ophelia': 152, 'nothing': 153, 'away': 154, 'whose': 155, 'doth': 156, 'other': 157, 'cannot': 158, 'leaue': 159, 'indeed': 160, 'into': 161, 'nay': 162, 'god': 163, 'head': 164, 'were': 165, 'matter': 166, 'thing': 167, 'hold': 168, 'day': 169, 'world': 170, 'nature': 171, 'neuer': 172, 'comes': 173, 'done': 174, 'exeunt': 175, 'call': 176, 'two': 177, 'true': 178, 'though': 179, 'sweet': 180, 'put': 181, 'set': 182, 'ghost': 183, 'euen': 184, 'earth': 185, 'feare': 186, 'madnesse': 187, 'mad': 188, 'seene': 189, 'eyes': 190, 'against': 191, 'faire': 192, 'denmarke': 193, 'those': 194, \"o're\": 195, 'polonius': 196, 'deere': 197, 'fathers': 198, 'sonne': 199, 'poore': 200, 'himselfe': 201, 'follow': 202, 'guild': 203, 'england': 204, 'friends': 205, 'once': 206, 'hand': 207, 'shew': 208, 'about': 209, \"i'th'\": 210, 'off': 211, 'within': 212, 'till': 213, 'great': 214, 'meanes': 215, 'words': 216, 'players': 217, 'exit': 218, 'part': 219, 'still': 220, 'does': 221, 'hee': 222, 'osr': 223, 'long': 224, 'before': 225, 'beleeue': 226, 'any': 227, 'old': 228, 'thoughts': 229, 'first': 230, 'eare': 231, 'keepe': 232, 'goe': 233, 'end': 234, 'guildensterne': 235, 'welcome': 236, 'while': 237, 'art': 238, 'noble': 239, 'body': 240, 'bee': 241, 'daughter': 242, 'speech': 243, 'makes': 244, \"there's\": 245, 'sword': 246, 'stand': 247, 'liue': 248, \"that's\": 249, 'farewell': 250, 'kin': 251, 'ere': 252, 'marry': 253, 'betweene': 254, 'many': 255, 'since': 256, 'watch': 257, \"ha's\": 258, 'therefore': 259, 'question': 260, 'thought': 261, 'heard': 262, 'spirit': 263, 'eye': 264, 'better': 265, 'thine': 266, 'tongue': 267, 'drinke': 268, 'youth': 269, 'sent': 270, 'graue': 271, 'rest': 272, 'bed': 273, 'last': 274, 'same': 275, 'marke': 276, 'gone': 277, 'without': 278, 'state': 279, \"is't\": 280, 'goes': 281, 'fortinbras': 282, 'vse': 283, 'grace': 284, 'euer': 285, 'finde': 286, 'gertrude': 287, 'beare': 288, 'little': 289, 'breath': 290, \"wee'l\": 291, 'saw': 292, 'beene': 293, 'none': 294, 'vertue': 295, 'else': 296, 'said': 297, 'after': 298, 'reynol': 299, 'cause': 300, 'forme': 301, 'something': 302, 'ayre': 303, 'farre': 304, 'selues': 305, 'purpose': 306, 'further': 307, 'reason': 308, 'friend': 309, 'madam': 310, 'remember': 311, 'faith': 312, 'gentlemen': 313, 'word': 314, 'foule': 315, 'winde': 316, 'meane': 317, 'bring': 318, 'fit': 319, 'blood': 320, 'helpe': 321, 'honest': 322, 'stay': 323, \"in't\": 324, 'being': 325, 'fire': 326, 'things': 327, \"what's\": 328, 'newes': 329, 'best': 330, 'kinde': 331, 'excellent': 332, 'each': 333, 'sleepe': 334, 'way': 335, 'please': 336, 'free': 337, 'reuenge': 338, 'villaine': 339, 'right': 340, 'ha': 341, 'passion': 342, 'rosincrance': 343, 'dost': 344, 'verie': 345, 'barn': 346, 'marcellus': 347, 'men': 348, 'peace': 349, 'together': 350, 'full': 351, 'voyce': 352, 'oft': 353, 'greefe': 354, \"'twere\": 355, 'late': 356, 'businesse': 357, 'doubt': 358, 'alone': 359, 'minde': 360, 'heauens': 361, 'face': 362, 'hell': 363, 'ye': 364, 'second': 365, 'iudgement': 366, 'giuen': 367, 'command': 368, 'action': 369, \"let's\": 370, 'murther': 371, 'guil': 372, 'lady': 373, 'fortune': 374, 'mee': 375, 'pyrrhus': 376, 'answer': 377, 'get': 378, 'thankes': 379, 'goodnight': 380, 'eares': 381, 'breake': 382, 'hora': 383, 'strange': 384, 'young': 385, 'walke': 386, 'brothers': 387, 'seeme': 388, 'name': 389, 'fellow': 390, 'act': 391, 'hands': 392, 'armes': 393, 'deare': 394, 'neere': 395, 'phrase': 396, 'draw': 397, 'gho': 398, 'alas': 399, 'ought': 400, 'offence': 401, 'sweare': 402, 'worke': 403, 'gentleman': 404, 'fine': 405, 'three': 406, 'barnardo': 407, 'fran': 408, 'ground': 409, 'sight': 410, 'sit': 411, 'maiesty': 412, 'pale': 413, \"on't\": 414, 'fell': 415, 'lost': 416, 'soft': 417, 'power': 418, 'yong': 419, 'duty': 420, 'whole': 421, 'woe': 422, 'ioy': 423, 'wife': 424, 'came': 425, 'queen': 426, 'seeke': 427, 'common': 428, 'seemes': 429, 'blacke': 430, 'kings': 431, 'teares': 432, 'top': 433, 'fashion': 434, 'deed': 435, 'euery': 436, 'light': 437, 'custome': 438, 'borne': 439, 'wilt': 440, 'hither': 441, 'lay': 442, 'another': 443, 'ouer': 444, 'age': 445, 'thousand': 446, 'fall': 447, 'lye': 448, 'conscience': 449, 'husband': 450, 'bar': 451, 'lookes': 452, 'charge': 453, 'knowne': 454, 'law': 455, 'bin': 456, 'sound': 457, 'sister': 458, 'memory': 459, 'brother': 460, 'beseech': 461, 'lesse': 462, 'dust': 463, 'through': 464, 'shewes': 465, 'desire': 466, 'obey': 467, 'woman': 468, 'almost': 469, 'grow': 470, 'here': 471, 'shame': 472, 'giues': 473, \"too't\": 474, 'takes': 475, 'table': 476, 'sure': 477, 'musicke': 478, 'letters': 479, 'hamlets': 480, 'hope': 481, 'receiue': 482, 'maiestie': 483, 'thanke': 484, 'gaue': 485, 'bad': 486, 'wee': 487, 'ore': 488, 'noise': 489, 'times': 490, 'cold': 491, 'bid': 492, 'dane': 493, 'place': 494, 'peece': 495, 'buried': 496, 'cast': 497, 'hot': 498, 'list': 499, 'wrong': 500, 'sea': 501, 'truth': 502, 'sayes': 503, 'season': 504, 'gracious': 505, 'dumbe': 506, 'loues': 507, 'sorrow': 508, 'marriage': 509, 'writ': 510, 'mouth': 511, 'pardon': 512, 'note': 513, 'backe': 514, 'lordship': 515, 'mothers': 516, 'beard': 517, 'fare': 518, 'seruice': 519, 'withall': 520, 'maid': 521, 'enough': 522, 'effect': 523, 'double': 524, 'neither': 525, 'false': 526, 'vnderstand': 527, 'circumstance': 528, 'foole': 529, 'vowes': 530, 'keepes': 531, 'shape': 532, 'dayes': 533, 'fat': 534, 'crowne': 535, 'wits': 536, 'damned': 537, 'ho': 538, 'needs': 539, 'touch': 540, 'ranke': 541, 'generall': 542, 'moue': 543, 'home': 544, 'ill': 545, 'round': 546, 'fortunes': 547, 'laugh': 548, 'yours': 549, \"he's\": 550, 'honor': 551, 'begin': 552, 'anon': 553, 'proofe': 554, 'gods': 555, 'quicke': 556, 'dangerous': 557, 'christian': 558, 'danish': 559, 'poyson': 560, 'begge': 561, 'wager': 562, \"drown'd\": 563, 'water': 564, 'scull': 565, 'houre': 566, 'twelue': 567, 'quiet': 568, 'course': 569, 'sometimes': 570, 'march': 571, 'look': 572, 'norwey': 573, 'particular': 574, 'land': 575, \"do's\": 576, 'vnto': 577, 'speak': 578, 'spirits': 579, 'cocke': 580, 'guilty': 581, \"'gainst\": 582, 'wholsome': 583, 'lords': 584, 'kingdome': 585, 'freely': 586, 'dreame': 587, 'told': 588, 'loose': 589, 'dread': 590, 'returne': 591, 'france': 592, 'confesse': 593, 'dye': 594, 'visage': 595, 'truly': 596, 'bound': 597, 'prythee': 598, 'health': 599, 'flesh': 600, 'fie': 601, 'beast': 602, 'discourse': 603, 'longer': 604, 'wicked': 605, 'disposition': 606, 'report': 607, 'teach': 608, 'forth': 609, 'thinkes': 610, 'tis': 611, 'yes': 612, 'countenance': 613, 'perchance': 614, 'warrant': 615, 'silence': 616, 'perhaps': 617, 'wisedome': 618, 'blessing': 619, 'dull': 620, 'mans': 621, 'audience': 622, \"you'l\": 623, 'making': 624, \"damn'd\": 625, 'soules': 626, 'cries': 627, 'desperate': 628, 'shalt': 629, 'prison': 630, 'went': 631, 'naturall': 632, 'holds': 633, 'sodaine': 634, 'adue': 635, 'braine': 636, 'knaue': 637, 'point': 638, 'vnder': 639, 'mercy': 640, 'lacke': 641, \"heere's\": 642, \"in's\": 643, 'tooke': 644, 'arme': 645, 'brought': 646, 'dutie': 647, 'found': 648, 'whereon': 649, 'commission': 650, 'passe': 651, 'vilde': 652, 'short': 653, 'try': 654, 'behinde': 655, 'presently': 656, 'slaue': 657, 'saue': 658, 'ambition': 659, 'sing': 660, 'themselues': 661, 'braines': 662, \"'twas\": 663, 'onely': 664, 'french': 665, 'treason': 666, 'morrow': 667, 'conceit': 668, 'drowne': 669, 'fellowes': 670, 'hoa': 671, 'patience': 672, 'halfe': 673, 'yeare': 674, 'forgot': 675, 'hence': 676, \"doo't\": 677, \"e'ene\": 678, 'slaine': 679, 'sense': 680, 'buriall': 681, 'alexander': 682, 'osricke': 683, 'carriages': 684, 'foyles': 685, 'hit': 686, 'tragedie': 687, 'sicke': 688, 'meet': 689, 'twice': 690, \"'twill\": 691, 'nights': 692, 'starre': 693, \"t'\": 694, 'figure': 695, 'wonder': 696, 'warlike': 697, 'cannon': 698, 'toward': 699, 'image': 700, 'norway': 701, \"seal'd\": 702, 'lands': 703, 'stood': 704, \"return'd\": 705, 'strong': 706, 'motiue': 707, 'ease': 708, 'treasure': 709, 'stop': 710, 'violence': 711, 'trumpet': 712, 'whether': 713, 'heerein': 714, 'wherein': 715, 'impart': 716, 'morning': 717, 'attendant': 718, 'brow': 719, 'discretion': 720, 'followes': 721, 'frame': 722, 'cornelius': 723, 'giuing': 724, 'commend': 725, \"would'st\": 726, 'natiue': 727, 'fauour': 728, 'hang': 729, 'colour': 730, 'show': 731, 'fault': 732, 'throw': 733, 'lose': 734, 'gentle': 735, 'sits': 736, 'growes': 737, 'visit': 738, 'growne': 739, 'vnkle': 740, 'left': 741, 'speed': 742, 'incestuous': 743, 'glad': 744, 'forget': 745, 'thrift': 746, \"arm'd\": 747, 'thrice': 748, 'length': 749, 'kept': 750, 'knew': 751, 'answere': 752, 'honour': 753, 'wide': 754, 'force': 755, 'affection': 756, 'shot': 757, 'danger': 758, 'moone': 759, 'safety': 760, 'lies': 761, 'buy': 762, 'aboue': 763, 'humbly': 764, 'tend': 765, 'ist': 766, 'bloud': 767, 'heate': 768, 'bones': 769, 'base': 770, 'horrible': 771, 'imagination': 772, 'direct': 773, 'lend': 774, 'hearing': 775, 'certaine': 776, 'fast': 777, 'house': 778, 'tale': 779, 'start': 780, 'vnnaturall': 781, \"it's\": 782, 'sleeping': 783, 'wit': 784, 'gifts': 785, 'seeming': 786, 'wil': 787, 'court': 788, 'cursed': 789, 'instant': 790, 'bosome': 791, 'distracted': 792, 'yea': 793, 'past': 794, 'booke': 795, 'think': 796, 'secret': 797, 'already': 798, 'stage': 799, 'seeing': 800, 'fingers': 801, 'reynoldo': 802, 'drift': 803, 'liberty': 804, 'closes': 805, 'consequence': 806, 'chamber': 807, \"turn'd\": 808, 'extasie': 809, 'violent': 810, 'meant': 811, 'hide': 812, 'whom': 813, 'rather': 814, 'white': 815, 'awhile': 816, 'idle': 817, 'thence': 818, 'bene': 819, 'foure': 820, 'honestie': 821, 'either': 822, 'count': 823, 'dreames': 824, 'bodies': 825, 'comming': 826, 'shal': 827, 'player': 828, 'flourish': 829, 'asse': 830, 'heauy': 831, 'masters': 832, '1': 833, 'others': 834, 'modestie': 835, 'cunning': 836, \"lou'd\": 837, 'horse': 838, 'priam': 839, 'new': 840, 'sleepes': 841, 'hecuba': 842, 'mortall': 843, 'weepe': 844, 'pate': 845, 'diuell': 846, 'blame': 847, 'flye': 848, 'turne': 849, 'beautie': 850, 'acte': 851, 'nunnery': 852, 'snow': 853, 'rose': 854, 'quite': 855, 'ladies': 856, 'wretched': 857, 'send': 858, 'weare': 859, \"kill'd\": 860, 'kill': 861, 'maker': 862, 'prologue': 863, 'shortly': 864, 'begun': 865, 'lights': 866, 'heeles': 867, 'doore': 868, 'meete': 869, 'stronger': 870, 'whereto': 871, 'next': 872, 'messenger': 873, 'choose': 874, 'bore': 875, 'spade': 876, 'gallowes': 877, 'sings': 878, 'rites': 879, \"woo't\": 880, 'cup': 881, 'vnfold': 882, 'bitter': 883, 'guard': 884, 'mouse': 885, \"appear'd\": 886, 'saies': 887, 'touching': 888, 'along': 889, 'appeare': 890, 'beating': 891, 'offended': 892, 'ambitious': 893, 'iust': 894, 'knowes': 895, 'subiect': 896, 'sore': 897, 'least': 898, 'valiant': 899, 'recouer': 900, 'termes': 901, 'maine': 902, 'loe': 903, 'offer': 904, 'present': 905, 'dew': 906, 'high': 907, 'hill': 908, 'aduice': 909, 'consent': 910, 'scena': 911, 'greene': 912, 'hearts': 913, 'wisest': 914, 'remembrance': 915, 'funerall': 916, 'delight': 917, 'affaire': 918, 'thinking': 919, 'voltemand': 920, 'vncle': 921, 'heartily': 922, 'bend': 923, 'bow': 924, 'cosin': 925, 'clouds': 926, 'sun': 927, 'liues': 928, 'passing': 929, 'formes': 930, 'vnderstanding': 931, 'sence': 932, 'coarse': 933, 'dyed': 934, 'beares': 935, 'wittenberg': 936, 'courtier': 937, 'louing': 938, 'smiling': 939, 'manet': 940, 'fixt': 941, 'flat': 942, 'vses': 943, 'married': 944, 'hercules': 945, 'salt': 946, 'change': 947, 'deepe': 948, 'mock': 949, 'hard': 950, 'tables': 951, 'goodly': 952, 'admiration': 953, 'deliuer': 954, 'cap': 955, 'appeares': 956, 'whilst': 957, 'dreadfull': 958, 'third': 959, 'sirs': 960, 'foote': 961, 'staid': 962, 'assume': 963, 'person': 964, 'mens': 965, 'choyce': 966, 'beauty': 967, 'spring': 968, 'aboord': 969, 'saile': 970, 'few': 971, 'steele': 972, 'entertainment': 973, 'censure': 974, 'rich': 975, 'generous': 976, 'edge': 977, 'tenders': 978, 'pay': 979, 'tender': 980, 'honourable': 981, 'presence': 982, 'meere': 983, 'wayes': 984, 'hower': 985, 'strooke': 986, 'wont': 987, \"honour'd\": 988, 'angels': 989, 'royall': 990, 'burst': 991, 'ignorance': 992, 'shake': 993, 'wherefore': 994, 'tempt': 995, 'lets': 996, 'lead': 997, 'crimes': 998, 'starres': 999, 'stirre': 1000, 'processe': 1001, 'wretch': 1002, 'sate': 1003, 'stole': 1004, \"i'm\": 1005, 'vnckle': 1006, 'boy': 1007, 'desires': 1008, 'soldiers': 1009, 'neede': 1010, 'expresse': 1011, 'neerer': 1012, \"if't\": 1013, 'wanton': 1014, 'gaming': 1015, 'faults': 1016, 'obserue': 1017, 'been': 1018, 'property': 1019, 'close': 1020, 'rosincrane': 1021, 'vouchsafe': 1022, 'gather': 1023, 'visitation': 1024, 'soueraigne': 1025, 'bent': 1026, 'ambassadors': 1027, 'liege': 1028, 'feast': 1029, 'distemper': 1030, 'sends': 1031, 'breefe': 1032, 'assay': 1033, 'likes': 1034, 'read': 1035, 'outward': 1036, 'foolish': 1037, 'remaines': 1038, \"whil'st\": 1039, 'letter': 1040, 'faithfull': 1041, 'sunne': 1042, \"receiu'd\": 1043, 'faine': 1044, 'proue': 1045, 'mistris': 1046, 'prince': 1047, 'locke': 1048, \"prou'd\": 1049, 'otherwise': 1050, 'indeede': 1051, 'arras': 1052, 'encounter': 1053, 'thicke': 1054, 'hits': 1055, 'indifferent': 1056, 'children': 1057, 'happy': 1058, 'infinite': 1059, 'shadow': 1060, 'quality': 1061, 'elsonower': 1062, 'begger': 1063, 'iustly': 1064, 'confession': 1065, 'exercise': 1066, 'heauenly': 1067, 'braue': 1068, 'delights': 1069, 'stuffe': 1070, 'clowne': 1071, 'pace': 1072, 'rapiers': 1073, 'dare': 1074, 'sides': 1075, 'argument': 1076, 'vnlesse': 1077, 'possible': 1078, 'carry': 1079, 'liued': 1080, 'actor': 1081, 'pastorall': 1082, 'historicall': 1083, 'iephta': 1084, 'iudge': 1085, 'loued': 1086, 'straight': 1087, 'matters': 1088, 'lines': 1089, 'fore': 1090, 'falles': 1091, 'rage': 1092, 'sticke': 1093, 'bold': 1094, 'pause': 1095, 'wheele': 1096, 'inobled': 1097, 'bare': 1098, 'caught': 1099, 'husbands': 1100, 'gonzago': 1101, 'creatures': 1102, 'murder': 1103, 'order': 1104, 'content': 1105, 'accident': 1106, 'bestow': 1107, 'vnseene': 1108, 'affliction': 1109, 'wish': 1110, 'withdraw': 1111, 'suffer': 1112, 'patient': 1113, \"where's\": 1114, 'throwne': 1115, 'ones': 1116, 'teare': 1117, 'tame': 1118, 'speciall': 1119, 'praise': 1120, 'norman': 1121, 'quantitie': 1122, 'feed': 1123, 'election': 1124, 'pipe': 1125, 'guilt': 1126, \"here's\": 1127, 'maids': 1128, 'flowers': 1129, 'leaues': 1130, 'kisses': 1131, 'imports': 1132, 'counsell': 1133, 'bap': 1134, 'wed': 1135, 'iest': 1136, 'worse': 1137, 'estate': 1138, \"did'st\": 1139, \"command'ment\": 1140, 'ten': 1141, 'skill': 1142, 'blesse': 1143, 'masse': 1144, 'stands': 1145, 'prepare': 1146, 'effects': 1147, 'repent': 1148, \"reueng'd\": 1149, 'killes': 1150, 'rat': 1151, 'rash': 1152, 'bloody': 1153, 'cals': 1154, 'mountaine': 1155, 'hey': 1156, \"was't\": 1157, 'vice': 1158, 'speakes': 1159, 'alacke': 1160, 'rapier': 1161, 'safely': 1162, 'spundge': 1163, 'mes': 1164, 'cry': 1165, 'pit': 1166, 'nony': 1167, 'practice': 1168, 'liberall': 1169, 'argall': 1170, \"ee'n\": 1171, 'clay': 1172, 'priest': 1173, 'fight': 1174, 'sixe': 1175, 'hangers': 1176, 'oddes': 1177, \"poyson'd\": 1178, 'dyes': 1179, 'actus': 1180, 'francisco': 1181, \"who's\": 1182, 'soldier': 1183, 'fantasie': 1184, 'apparition': 1185, 'tush': 1186, 'story': 1187, 'pole': 1188, 'burnes': 1189, 'bell': 1190, 'spoke': 1191, 'tremble': 1192, 'sensible': 1193, 'armour': 1194, 'ice': 1195, 'grosse': 1196, 'scope': 1197, 'nightly': 1198, 'warre': 1199, 'ship': 1200, 'ioynt': 1201, 'side': 1202, 'mettle': 1203, 'diet': 1204, 'enterprize': 1205, 'sourse': 1206, 'cheefe': 1207, 'post': 1208, 'crosse': 1209, 'blast': 1210, 'countries': 1211, 'fate': 1212, 'happily': 1213, 'auoyd': 1214, 'strike': 1215, 'maiesticall': 1216, 'blowes': 1217, 'malicious': 1218, 'crew': 1219, 'throate': 1220, 'awake': 1221, 'confine': 1222, 'bird': 1223, 'morne': 1224, 'walkes': 1225, 'needfull': 1226, \"do't\": 1227, 'secunda': 1228, 'imperiall': 1229, 'mirth': 1230, 'equall': 1231, 'scale': 1232, 'taken': 1233, 'weake': 1234, 'importing': 1235, 'bonds': 1236, 'meeting': 1237, 'heares': 1238, 'nephewes': 1239, 'suppresse': 1240, 'gate': 1241, 'leuies': 1242, 'dispatch': 1243, 'volt': 1244, 'suite': 1245, 'asking': 1246, 'throne': 1247, 'willingly': 1248, 'towards': 1249, 'graces': 1250, \"know'st\": 1251, 'suites': 1252, 'solemne': 1253, \"forc'd\": 1254, 'griefe': 1255, 'obligation': 1256, 'terme': 1257, 'vulgar': 1258, 'opposition': 1259, 'fye': 1260, 'absurd': 1261, 'theame': 1262, 'cried': 1263, 'intent': 1264, 'going': 1265, 'cheere': 1266, 'reply': 1267, 'whereof': 1268, 'drinkes': 1269, 'bruite': 1270, 'thunder': 1271, 'melt': 1272, 'slaughter': 1273, 'weary': 1274, 'garden': 1275, 'meerely': 1276, 'windes': 1277, 'roughly': 1278, 'month': 1279, 'shooes': 1280, 'followed': 1281, 'wants': 1282, 'moneth': 1283, 'truant': 1284, 'enemy': 1285, 'coldly': 1286, 'foe': 1287, 'minds': 1288, 'middle': 1289, 'points': 1290, 'slow': 1291, 'secrecie': 1292, \"deliuer'd\": 1293, 'platforme': 1294, 'motion': 1295, 'lowd': 1296, 'troubles': 1297, 'toe': 1298, 'lookt': 1299, 'red': 1300, 'hundred': 1301, 'sable': 1302, 'wake': 1303, 'hitherto': 1304, 'els': 1305, 'rise': 1306, 'assistant': 1307, 'ophel': 1308, 'fauours': 1309, 'toy': 1310, 'lasting': 1311, 'bulke': 1312, 'waxes': 1313, 'inward': 1314, \"weigh'd\": 1315, 'birth': 1316, 'persons': 1317, 'depends': 1318, 'fits': 1319, 'peculiar': 1320, 'songs': 1321, 'chast': 1322, 'open': 1323, 'prodigall': 1324, 'canker': 1325, 'galls': 1326, \"disclos'd\": 1327, 'wary': 1328, 'reade': 1329, 'occasion': 1330, 'precepts': 1331, 'character': 1332, 'grapple': 1333, 'palme': 1334, 'beware': 1335, 'purse': 1336, 'proclaimes': 1337, 'station': 1338, 'canst': 1339, 'seruants': 1340, 'somthing': 1341, 'puh': 1342, 'baby': 1343, 'tane': 1344, 'catch': 1345, 'promise': 1346, 'maiden': 1347, 'breathing': 1348, 'pious': 1349, 'beguile': 1350, 'tearmes': 1351, 'moment': 1352, 'talke': 1353, 'drawes': 1354, 'held': 1355, 'rouse': 1356, 'renish': 1357, 'kettle': 1358, 'mind': 1359, 'obseruance': 1360, 'defend': 1361, 'charitable': 1362, \"com'st\": 1363, 'fooles': 1364, 'horridly': 1365, 'beyond': 1366, 'wafts': 1367, 'fee': 1368, \"rul'd\": 1369, \"cal'd\": 1370, \"heau'n\": 1371, 'issue': 1372, 'rotten': 1373, 'pitty': 1374, 'forbid': 1375, 'haire': 1376, 'eternall': 1377, 'wings': 1378, 'swift': 1379, 'apt': 1380, \"should'st\": 1381, 'orchard': 1382, 'serpent': 1383, 'sting': 1384, 'witchcraft': 1385, 'lust': 1386, 'falling': 1387, 'dignity': 1388, 'vow': 1389, 'angell': 1390, 'celestiall': 1391, 'briefe': 1392, 'alwayes': 1393, 'secure': 1394, \"bak'd\": 1395, 'smooth': 1396, 'cut': 1397, 'sinne': 1398, 'couch': 1399, 'contriue': 1400, 'glow': 1401, 'wipe': 1402, 'fond': 1403, 'baser': 1404, 'smile': 1405, 'wonderfull': 1406, \"hee's\": 1407, 'arrant': 1408, 'wild': 1409, 'sorry': 1410, 'schollers': 1411, 'seen': 1412, 'infaith': 1413, 'sworne': 1414, 'ah': 1415, 'propose': 1416, 'oath': 1417, 'grownd': 1418, 'remoue': 1419, 'wondrous': 1420, 'odde': 1421, 'anticke': 1422, 'doubtfull': 1423, 'willing': 1424, 'wisely': 1425, 'finding': 1426, 'demands': 1427, 'wilde': 1428, 'dishonour': 1429, 'swearing': 1430, 'fiery': 1431, 'fetch': 1432, 'laying': 1433, 'working': 1434, 'hauing': 1435, \"assur'd\": 1436, 'according': 1437, 'country': 1438, 'former': 1439, 'inclination': 1440, 'hat': 1441, 'knees': 1442, 'fals': 1443, 'sigh': 1444, 'profound': 1445, \"seem'd\": 1446, 'natures': 1447, 'sorrie': 1448, 'iealousie': 1449, 'proper': 1450, 'opinions': 1451, 'sort': 1452, 'sending': 1453, 'intreat': 1454, 'pleasures': 1455, 'occasions': 1456, 'liuing': 1457, 'profit': 1458, 'maiesties': 1459, 'traile': 1460, \"vs'd\": 1461, 'sonnes': 1462, 'voltumand': 1463, 'poleak': 1464, \"look'd\": 1465, 'sicknesse': 1466, 'allowance': 1467, 'labour': 1468, 'waste': 1469, 'limbes': 1470, 'pittie': 1471, 'obedience': 1472, 'admit': 1473, 'weaknesse': 1474, 'likely': 1475, 'hid': 1476, 'houres': 1477, 'lobby': 1478, 'falne': 1479, 'reading': 1480, \"y'are\": 1481, 'fishmonger': 1482, 'breed': 1483, 'magots': 1484, 'dogge': 1485, 'kissing': 1486, 'faces': 1487, 'purging': 1488, 'tree': 1489, 'method': 1490, \"o'th'\": 1491, 'pregnant': 1492, 'often': 1493, 'tedious': 1494, 'strumpet': 1495, 'doomesday': 1496, 'shadowes': 1497, 'beggers': 1498, 'wait': 1499, 'friendship': 1500, 'craft': 1501, 'coniure': 1502, 'fellowship': 1503, 'preuent': 1504, 'golden': 1505, 'pestilent': 1506, 'faculty': 1507, 'apprehension': 1508, 'tribute': 1509, 'lungs': 1510, \"a'th'\": 1511, \"for't\": 1512, 'city': 1513, 'wonted': 1514, 'thither': 1515, \"'em\": 1516, 'pursue': 1517, 'succession': 1518, 'nation': 1519, 'twenty': 1520, 'picture': 1521, 'lest': 1522, 'north': 1523, 'childe': 1524, 'prophesie': 1525, 'mark': 1526, 'actors': 1527, 'buzze': 1528, 'comedie': 1529, 'comicall': 1530, 'tragicall': 1531, \"had'st\": 1532, 'olde': 1533, 'byrlady': 1534, 'voice': 1535, 'ring': 1536, \"e'ne\": 1537, 'passionate': 1538, \"pleas'd\": 1539, 'author': 1540, 'rugged': 1541, 'begins': 1542, 'complexion': 1543, 'dismall': 1544, 'seekes': 1545, 'spoken': 1546, 'accent': 1547, 'findes': 1548, 'rebellious': 1549, 'lyes': 1550, 'match': 1551, 'senselesse': 1552, 'blow': 1553, 'flaming': 1554, 'prisoner': 1555, 'painted': 1556, 'below': 1557, 'region': 1558, 'vengeance': 1559, 'mars': 1560, 'iigge': 1561, 'run': 1562, 'foot': 1563, 'flame': 1564, 'diadem': 1565, 'venome': 1566, \"pronounc'd\": 1567, 'sport': 1568, 'burning': 1569, 'wel': 1570, \"bestow'd\": 1571, 'epitaph': 1572, 'desart': 1573, 'scape': 1574, 'own': 1575, 'merit': 1576, \"ha't\": 1577, 'rogue': 1578, 'pesant': 1579, 'distraction': 1580, 'horrid': 1581, 'confound': 1582, 'ignorant': 1583, 'muddy': 1584, 'pluckes': 1585, \"by'th'\": 1586, 'nose': 1587, 'gall': 1588, 'treacherous': 1589, \"vpon't\": 1590, 'scoene': 1591, 'diuel': 1592, 'melancholly': 1593, 'potent': 1594, 'guildenstern': 1595, 'puts': 1596, 'aloofe': 1597, 'pastime': 1598, 'driue': 1599, 'frankely': 1600, 'suffers': 1601, 'cheeke': 1602, 'deede': 1603, 'heauie': 1604, 'arrowes': 1605, 'ake': 1606, 'rub': 1607, 'whips': 1608, 'delay': 1609, 'spurnes': 1610, 'vnworthy': 1611, 'sweat': 1612, 'returnes': 1613, 'hew': 1614, 'pith': 1615, 'currants': 1616, 'sinnes': 1617, 're': 1618, 'sooner': 1619, 'translate': 1620, 'rellish': 1621, 'offences': 1622, 'doores': 1623, 'plague': 1624, 'pure': 1625, 'escape': 1626, 'wise': 1627, 'powers': 1628, 'has': 1629, 'courtiers': 1630, 'glasse': 1631, 'tune': 1632, 'harsh': 1633, 'feature': 1634, 'blowne': 1635, 'blasted': 1636, \"t'haue\": 1637, 'demand': 1638, 'neglected': 1639, 'haply': 1640, 'seas': 1641, 'variable': 1642, 'expell': 1643, 'saide': 1644, 'greefes': 1645, 'capeable': 1646, 'doing': 1647, 'neyther': 1648, 'fro': 1649, 'm': 1650, 'playing': 1651, 'bodie': 1652, 'greeue': 1653, 'clownes': 1654, 'necessary': 1655, 'readie': 1656, 'aduancement': 1657, 'rewards': 1658, 'blest': 1659, 'finger': 1660, 'iudgements': 1661, 'ioyne': 1662, 'fares': 1663, 'ifaith': 1664, 'eate': 1665, 'plaid': 1666, 'enact': 1667, 'caesar': 1668, 'capitall': 1669, 'lap': 1670, 'merrie': 1671, 'cheerefully': 1672, 'moneths': 1673, 'memorie': 1674, 'hoby': 1675, 'powres': 1676, 'poysoner': 1677, 'mutes': 1678, 'lament': 1679, 'belike': 1680, \"they'l\": 1681, 'naught': 1682, 'thirtie': 1683, 'wash': 1684, 'dozen': 1685, 'distrust': 1686, 'wormwood': 1687, 'destroy': 1688, 'ioyes': 1689, 'aye': 1690, 'enemies': 1691, 'want': 1692, 'ours': 1693, 'ends': 1694, 'die': 1695, 'mischance': 1696, 'twaine': 1697, \"shee'l\": 1698, 'knauish': 1699, 'lucianus': 1700, 'keene': 1701, 'cost': 1702, 'murderer': 1703, 'creature': 1704, 'weeds': 1705, 'collected': 1706, \"for's\": 1707, 'rises': 1708, 'ioue': 1709, 'choller': 1710, 'richer': 1711, 'signifie': 1712, 'wildely': 1713, 'amazement': 1714, 'closset': 1715, 'trade': 1716, 'deny': 1717, 'grasse': 1718, 'recorder': 1719, 'pluck': 1720, 'instrument': 1721, 'camell': 1722, 'weazell': 1723, 'whale': 1724, 'contagion': 1725, 'cruell': 1726, 'daggers': 1727, 'safe': 1728, 'feede': 1729, 'single': 1730, 'rests': 1731, 'cease': 1732, 'mount': 1733, 'voyage': 1734, 'haste': 1735, 'gent': 1736, 'vantage': 1737, 'serues': 1738, 'prayer': 1739, \"pardon'd\": 1740, 'forgiue': 1741, 'shuffling': 1742, 'teeth': 1743, 'forehead': 1744, 'broad': 1745, 'passage': 1746, 'pleasure': 1747, 'saluation': 1748, 'wag': 1749, 'rude': 1750, 'blush': 1751, 'sweete': 1752, 'seale': 1753, 'assurance': 1754, 'step': 1755, 'proclaime': 1756, 'burne': 1757, 'corruption': 1758, 'precious': 1759, 'fighting': 1760, 'peepe': 1761, 'conuert': 1762, 'habite': 1763, 'vnction': 1764, 'spred': 1765, 'easinesse': 1766, 'scourge': 1767, 'paire': 1768, 'necke': 1769, 'basket': 1770, 'houses': 1771, 'ape': 1772, 'guts': 1773, 'roome': 1774, 'laide': 1775, 'prouidence': 1776, 'apart': 1777, 'mountaines': 1778, 'ros': 1779, 'chappell': 1780, 'officers': 1781, 'iaw': 1782, 'dry': 1783, 'find': 1784, 'supper': 1785, 'wormes': 1786, 'purposes': 1787, 'awe': 1788, \"promis'd\": 1789, 'trickes': 1790, 'hearers': 1791, 'collection': 1792, 'breeding': 1793, 'stone': 1794, 'larded': 1795, 'pretty': 1796, 'aske': 1797, 's': 1798, 'aint': 1799, 'la': 1800, 'beasts': 1801, 'noyse': 1802, 'tongues': 1803, 'broke': 1804, 'diuinity': 1805, 'acts': 1806, 'turnes': 1807, 'doue': 1808, 'becomes': 1809, 'rew': 1810, 'violets': 1811, 'axe': 1812, 'saylors': 1813, 'got': 1814, 'repaire': 1815, 'wouldest': 1816, 'slightly': 1817, 'mighty': 1818, 'naked': 1819, 'vndertake': 1820, \"i'ue\": 1821, \"seru'd\": 1822, 'shapes': 1823, 'defence': 1824, 'throat': 1825, 'church': 1826, 'excellence': 1827, 'chance': 1828, 'brooke': 1829, 'tricke': 1830, 'clown': 1831, 'wittingly': 1832, 'scripture': 1833, 'digge': 1834, 'builds': 1835, 'mason': 1836, 'shipwright': 1837, 'carpenter': 1838, 'liquor': 1839, 'imployment': 1840, 'guest': 1841, 'fines': 1842, 'vouchers': 1843, 'recoueries': 1844, 'dirt': 1845, 'iot': 1846, 'skinnes': 1847, 'liest': 1848, 'yeares': 1849, 'strangely': 1850, 'nine': 1851, 'fancy': 1852, 'consider': 1853, 'lome': 1854, 'cerimony': 1855, 'allowed': 1856, 'wounded': 1857, \"thou'lt\": 1858, 'plots': 1859, 'leysure': 1860, 'wrote': 1861, 'view': 1862, 'quit': 1863, 'euill': 1864, 'soultry': 1865, 'laid': 1866, 'weapon': 1867, 'barbary': 1868, 'horses': 1869, \"impon'd\": 1870, 'assignes': 1871, 'tryall': 1872, 'win': 1873, 'attendants': 1874, 'wine': 1875, \"wrong'd\": 1876, 'hurt': 1877, 'embrace': 1878, 'exchange': 1879, 'vnion': 1880, 'trumpets': 1881, 'treacherie': 1882, \"envenom'd\": 1883, 'drumme': 1884, 'shoote': 1885, 'william': 1886, 'shakespeare': 1887, '1599': 1888, 'primus': 1889, 'scoena': 1890, 'prima': 1891, 'centinels': 1892, 'carefully': 1893, 'strook': 1894, 'releefe': 1895, 'stirring': 1896, 'riuals': 1897, 'leige': 1898, 'farwel': 1899, \"relieu'd\": 1900, 'fra': 1901, 'holla': 1902, 'beleefe': 1903, 'dreaded': 1904, 'intreated': 1905, 'minutes': 1906, 'approue': 1907, 'assaile': 1908, 'fortified': 1909, 'yond': 1910, 'westward': 1911, 'illume': 1912, 'scholler': 1913, 'harrowes': 1914, 'fear': 1915, \"vsurp'st\": 1916, 'stalkes': 1917, 'auouch': 1918, 'combatted': 1919, \"frown'd\": 1920, 'angry': 1921, 'parle': 1922, 'smot': 1923, 'sledded': 1924, 'pollax': 1925, 'martiall': 1926, 'stalke': 1927, 'work': 1928, 'opinion': 1929, 'boades': 1930, 'erruption': 1931, 'strict': 1932, 'obseruant': 1933, 'toyles': 1934, 'dayly': 1935, 'brazon': 1936, 'forraigne': 1937, 'mart': 1938, 'implements': 1939, 'impresse': 1940, 'wrights': 1941, 'taske': 1942, 'diuide': 1943, 'sunday': 1944, 'weeke': 1945, 'sweaty': 1946, 'labourer': 1947, 'informe': 1948, 'whisper': 1949, 'thereto': 1950, \"prick'd\": 1951, 'emulate': 1952, 'pride': 1953, \"dar'd\": 1954, 'combate': 1955, \"esteem'd\": 1956, 'slay': 1957, 'compact': 1958, 'ratified': 1959, 'heraldrie': 1960, 'forfeite': 1961, \"seiz'd\": 1962, 'conqueror': 1963, 'moity': 1964, 'competent': 1965, 'gaged': 1966, 'inheritance': 1967, 'vanquisher': 1968, \"cou'nant\": 1969, 'carriage': 1970, 'article': 1971, 'designe': 1972, 'vnimproued': 1973, 'skirts': 1974, \"shark'd\": 1975, 'landlesse': 1976, 'resolutes': 1977, 'foode': 1978, 'stomacke': 1979, 'compulsatiue': 1980, 'foresaid': 1981, 'preparations': 1982, 'romage': 1983, 'behold': 1984, 'illusion': 1985, 'priuy': 1986, 'foreknowing': 1987, 'hoorded': 1988, 'extorted': 1989, 'wombe': 1990, 'partizan': 1991, 'invulnerable': 1992, 'vaine': 1993, 'mockery': 1994, 'started': 1995, 'fearfull': 1996, 'summons': 1997, 'lofty': 1998, 'shrill': 1999, 'sounding': 2000, 'warning': 2001, 'extrauagant': 2002, 'erring': 2003, 'hyes': 2004, 'obiect': 2005, 'probation': 2006, 'faded': 2007, 'crowing': 2008, 'sauiours': 2009, 'birch': 2010, 'celebrated': 2011, 'dawning': 2012, 'singeth': 2013, 'abroad': 2014, 'planets': 2015, 'faiery': 2016, 'talkes': 2017, 'witch': 2018, 'charme': 2019, \"hallow'd\": 2020, 'russet': 2021, 'mantle': 2022, 'clad': 2023, 'yon': 2024, 'easterne': 2025, 'acquaint': 2026, 'fitting': 2027, 'conueniently': 2028, 'claudius': 2029, 'befitted': 2030, 'contracted': 2031, 'fought': 2032, 'ioyntresse': 2033, 'defeated': 2034, 'auspicious': 2035, 'dropping': 2036, 'dirge': 2037, 'weighing': 2038, 'dole': 2039, \"barr'd\": 2040, 'wisedomes': 2041, 'holding': 2042, 'supposall': 2043, 'worth': 2044, 'disioynt': 2045, 'colleagued': 2046, 'aduantage': 2047, \"fayl'd\": 2048, 'pester': 2049, 'message': 2050, 'surrender': 2051, 'impotent': 2052, 'bedrid': 2053, 'scarsely': 2054, 'lists': 2055, 'proportions': 2056, 'bearing': 2057, 'greeting': 2058, 'personall': 2059, 'dilated': 2060, 'articles': 2061, 'allow': 2062, 'beg': 2063, 'instrumentall': 2064, 'whence': 2065, 'coronation': 2066, 'wishes': 2067, 'pollonius': 2068, 'spend': 2069, 'veyled': 2070, 'lids': 2071, 'eternity': 2072, 'inky': 2073, 'cloake': 2074, 'customary': 2075, 'windy': 2076, 'suspiration': 2077, 'fruitfull': 2078, 'riuer': 2079, 'deiected': 2080, 'hauiour': 2081, 'moods': 2082, 'denote': 2083, 'actions': 2084, 'passeth': 2085, 'trappings': 2086, 'commendable': 2087, 'mourning': 2088, 'duties': 2089, 'suruiuer': 2090, 'filiall': 2091, 'obsequious': 2092, 'perseuer': 2093, 'obstinate': 2094, 'condolement': 2095, 'impious': 2096, 'stubbornnesse': 2097, 'vnmanly': 2098, 'incorrect': 2099, 'vnfortified': 2100, 'impatient': 2101, 'simple': 2102, \"vnschool'd\": 2103, 'peeuish': 2104, 'vnpreuayling': 2105, 'immediate': 2106, 'nobility': 2107, 'deerest': 2108, 'schoole': 2109, 'retrograde': 2110, 'remaine': 2111, 'comfort': 2112, 'cheefest': 2113, 'prayers': 2114, \"vnforc'd\": 2115, 'accord': 2116, 'iocond': 2117, 'clowds': 2118, 'rouce': 2119, 'respeaking': 2120, 'earthly': 2121, 'solid': 2122, 'thaw': 2123, 'resolue': 2124, 'euerlasting': 2125, 'stale': 2126, 'vnprofitable': 2127, 'vnweeded': 2128, 'seed': 2129, 'rank': 2130, 'possesse': 2131, 'months': 2132, 'hiperion': 2133, 'satyre': 2134, 'beteene': 2135, 'encrease': 2136, 'appetite': 2137, 'fed': 2138, 'frailty': 2139, 'niobe': 2140, \"mourn'd\": 2141, 'vnrighteous': 2142, 'flushing': 2143, 'gauled': 2144, 'dexterity': 2145, 'sheets': 2146, 'haile': 2147, 'seruant': 2148, 'wittemberge': 2149, 'truster': 2150, 'elsenour': 2151, 'depart': 2152, 'student': 2153, 'wedding': 2154, 'bakt': 2155, 'meats': 2156, 'furnish': 2157, 'met': 2158, 'dearest': 2159, 'yesternight': 2160, 'attent': 2161, 'witnesse': 2162, 'maruell': 2163, 'wast': 2164, 'encountred': 2165, 'exactly': 2166, 'pe': 2167, 'sollemne': 2168, 'stately': 2169, 'walkt': 2170, 'opprest': 2171, 'surprized': 2172, 'truncheons': 2173, \"bestil'd\": 2174, 'ielly': 2175, 'whereas': 2176, 'watcht': 2177, 'lifted': 2178, 'addresse': 2179, 'shrunke': 2180, 'vanisht': 2181, 'honourd': 2182, 'wore': 2183, 'beauer': 2184, 'frowningly': 2185, 'anger': 2186, 'constantly': 2187, \"amaz'd\": 2188, 'moderate': 2189, \"saw't\": 2190, 'grisly': 2191, \"siluer'd\": 2192, 'gape': 2193, 'conceald': 2194, 'treble': 2195, 'whatsoeuer': 2196, 'hap': 2197, 'requite': 2198, 'twixt': 2199, 'eleuen': 2200, 'deeds': 2201, 'orewhelm': 2202, 'eies': 2203, 'tertia': 2204, 'necessaries': 2205, \"imbark't\": 2206, 'winds': 2207, 'benefit': 2208, 'conuoy': 2209, 'trifling': 2210, 'bloude': 2211, 'violet': 2212, 'primy': 2213, 'froward': 2214, 'permanent': 2215, 'suppliance': 2216, 'minute': 2217, 'cressant': 2218, 'thewes': 2219, 'temple': 2220, 'soyle': 2221, 'cautell': 2222, 'besmerch': 2223, 'greatnesse': 2224, 'vnuallued': 2225, 'carue': 2226, 'sanctity': 2227, \"circumscrib'd\": 2228, 'yeelding': 2229, 'sect': 2230, 'saying': 2231, 'weight': 2232, 'losse': 2233, 'sustaine': 2234, 'credent': 2235, 'vnmastred': 2236, 'importunity': 2237, 'reare': 2238, 'chariest': 2239, 'vnmaske': 2240, 'scapes': 2241, 'calumnious': 2242, 'stroakes': 2243, 'infants': 2244, 'buttons': 2245, 'liquid': 2246, 'contagious': 2247, 'blastments': 2248, 'imminent': 2249, 'rebels': 2250, 'lesson': 2251, 'watchmen': 2252, 'vngracious': 2253, 'pastors': 2254, 'steepe': 2255, 'thorny': 2256, 'puft': 2257, 'recklesse': 2258, 'libertine': 2259, 'primrose': 2260, 'path': 2261, 'dalliance': 2262, 'treads': 2263, 'reaks': 2264, 'smiles': 2265, 'shoulder': 2266, \"vnproportion'd\": 2267, 'familiar': 2268, 'adoption': 2269, 'tride': 2270, 'hoopes': 2271, \"vnhatch't\": 2272, \"vnfledg'd\": 2273, 'comrade': 2274, 'entrance': 2275, 'quarrell': 2276, \"bear't\": 2277, 'opposed': 2278, 'reserue': 2279, 'costly': 2280, 'habit': 2281, 'exprest': 2282, 'fancie': 2283, 'gawdie': 2284, 'apparell': 2285, 'ranck': 2286, 'select': 2287, 'cheff': 2288, 'borrower': 2289, 'lender': 2290, 'lone': 2291, 'loses': 2292, 'borrowing': 2293, 'duls': 2294, 'husbandry': 2295, 'inuites': 2296, 'lockt': 2297, 'key': 2298, 'l': 2299, 'ord': 2300, 'bethought': 2301, 'priuate': 2302, 'bounteous': 2303, 'caution': 2304, 'cleerely': 2305, 'behoues': 2306, 'girle': 2307, 'vnsifted': 2308, 'perillous': 2309, 'starling': 2310, 'dearly': 2311, 'crack': 2312, 'roaming': 2313, \"importun'd\": 2314, 'springes': 2315, 'woodcocks': 2316, 'blazes': 2317, 'extinct': 2318, 'somewhat': 2319, 'scanter': 2320, 'entreatments': 2321, 'higher': 2322, 'rate': 2323, 'parley': 2324, 'larger': 2325, 'tether': 2326, 'broakers': 2327, 'inuestments': 2328, 'implorators': 2329, 'vnholy': 2330, 'sutes': 2331, 'sanctified': 2332, 'plaine': 2333, 'slander': 2334, 'leisure': 2335, 'bites': 2336, 'shrewdly': 2337, 'nipping': 2338, 'eager': 2339, 'lacks': 2340, 'wassels': 2341, 'swaggering': 2342, 'vpspring': 2343, 'reeles': 2344, 'dreines': 2345, 'draughts': 2346, 'drum': 2347, 'bray': 2348, 'triumph': 2349, 'pledge': 2350, 'horat': 2351, 'manner': 2352, 'breach': 2353, 'ministers': 2354, 'goblin': 2355, 'ayres': 2356, 'blasts': 2357, 'euents': 2358, 'questionable': 2359, \"canoniz'd\": 2360, 'hearsed': 2361, 'cerments': 2362, 'sepulcher': 2363, 'quietly': 2364, \"enurn'd\": 2365, \"op'd\": 2366, 'ponderous': 2367, 'marble': 2368, 'iawes': 2369, 'compleat': 2370, 'reuisits': 2371, 'glimpses': 2372, 'hidious': 2373, 'reaches': 2374, 'beckens': 2375, 'beckons': 2376, 'impartment': 2377, 'courteous': 2378, 'remoued': 2379, 'pins': 2380, 'immortall': 2381, 'waues': 2382, 'floud': 2383, 'sonnet': 2384, 'cliffe': 2385, 'beetles': 2386, 'assumes': 2387, 'depriue': 2388, 'soueraignty': 2389, 'petty': 2390, 'artire': 2391, 'hardy': 2392, 'nemian': 2393, 'lions': 2394, 'nerue': 2395, 'vnhand': 2396, 'sulphurous': 2397, 'tormenting': 2398, 'flames': 2399, 'render': 2400, 'serious': 2401, \"doom'd\": 2402, \"confin'd\": 2403, 'fiers': 2404, 'burnt': 2405, \"purg'd\": 2406, 'secrets': 2407, 'lightest': 2408, 'harrow': 2409, 'freeze': 2410, 'spheres': 2411, 'knotty': 2412, 'combined': 2413, 'lockes': 2414, 'quilles': 2415, 'fretfull': 2416, 'porpentine': 2417, 'blason': 2418, 'didst': 2419, 'meditation': 2420, 'sweepe': 2421, 'duller': 2422, 'weede': 2423, 'rots': 2424, 'lethe': 2425, 'wharfe': 2426, 'stung': 2427, 'forged': 2428, 'rankly': 2429, \"abus'd\": 2430, 'weares': 2431, 'propheticke': 2432, 'adulterate': 2433, 'traitorous': 2434, 'guifts': 2435, 'seduce': 2436, 'won': 2437, 'shamefull': 2438, 'vertuous': 2439, 'decline': 2440, 'moued': 2441, 'lewdnesse': 2442, 'radiant': 2443, \"link'd\": 2444, 'prey': 2445, 'garbage': 2446, 'mornings': 2447, 'afternoone': 2448, 'iuyce': 2449, 'hebenon': 2450, 'violl': 2451, 'porches': 2452, 'poure': 2453, 'leaperous': 2454, 'distilment': 2455, 'enmity': 2456, 'quick': 2457, 'siluer': 2458, 'courses': 2459, 'gates': 2460, 'allies': 2461, 'vigour': 2462, 'posset': 2463, 'curd': 2464, 'aygre': 2465, 'droppings': 2466, 'milke': 2467, 'thin': 2468, 'tetter': 2469, 'lazar': 2470, 'vile': 2471, 'loathsome': 2472, 'crust': 2473, 'dispatcht': 2474, 'blossomes': 2475, 'vnhouzzled': 2476, 'disappointed': 2477, 'vnnaneld': 2478, 'reckoning': 2479, 'account': 2480, 'imperfections': 2481, 'luxury': 2482, 'incest': 2483, 'howsoeuer': 2484, 'pursuest': 2485, 'taint': 2486, 'thornes': 2487, 'lodge': 2488, 'pricke': 2489, 'worme': 2490, 'showes': 2491, 'matine': 2492, 'gins': 2493, 'vneffectuall': 2494, 'host': 2495, 'couple': 2496, 'sinnewes': 2497, 'stiffely': 2498, 'seate': 2499, 'globe': 2500, 'triuiall': 2501, 'records': 2502, 'sawes': 2503, 'bookes': 2504, 'presures': 2505, 'obseruation': 2506, 'coppied': 2507, 'commandment': 2508, 'volume': 2509, 'vnmixt': 2510, 'pernicious': 2511, \"sworn't\": 2512, 'illo': 2513, 'hillo': 2514, 'reueale': 2515, 'nere': 2516, 'dwelling': 2517, 'busines': 2518, 'hurling': 2519, 'offend': 2520, 'saint': 2521, 'patricke': 2522, 'vision': 2523, \"o'remaster't\": 2524, 'request': 2525, 'known': 2526, \"swear't\": 2527, 'marcell': 2528, 'sayest': 2529, 'truepenny': 2530, 'selleredge': 2531, 'hic': 2532, 'vbique': 2533, 'shift': 2534, 'mole': 2535, \"can'st\": 2536, 'worthy': 2537, 'pioner': 2538, 'stranger': 2539, \"dream't\": 2540, 'philosophy': 2541, 'heereafter': 2542, 'encombred': 2543, 'pronouncing': 2544, 'ambiguous': 2545, 'perturbed': 2546, 'friending': 2547, 'lippes': 2548, 'spight': 2549, 'secundus': 2550, 'money': 2551, 'notes': 2552, 'maruels': 2553, 'visite': 2554, 'inquiry': 2555, 'behauiour': 2556, 'intend': 2557, 'enquire': 2558, 'danskers': 2559, 'paris': 2560, 'company': 2561, 'expence': 2562, 'encompassement': 2563, 'distant': 2564, 'knowledge': 2565, 'hees': 2566, 'addicted': 2567, 'forgeries': 2568, 'heed': 2569, 'vsuall': 2570, 'slips': 2571, 'companions': 2572, 'noted': 2573, 'drinking': 2574, 'fencing': 2575, 'quarelling': 2576, 'drabbing': 2577, 'scandall': 2578, 'incontinencie': 2579, 'meaning': 2580, 'quaintly': 2581, 'taints': 2582, 'flash': 2583, 'sauagenes': 2584, \"vnreclaim'd\": 2585, 'assault': 2586, 'belieue': 2587, 'slight': 2588, 'sulleyes': 2589, \"soil'd\": 2590, 'party': 2591, 'conuerse': 2592, 'prenominate': 2593, 'addition': 2594, 'yesterday': 2595, 'tother': 2596, \"o'retooke\": 2597, 'tennis': 2598, 'videlicet': 2599, 'brothell': 2600, 'bait': 2601, 'falshood': 2602, 'cape': 2603, 'reach': 2604, 'windlesses': 2605, 'assaies': 2606, 'bias': 2607, 'indirections': 2608, 'directions': 2609, 'lecture': 2610, 'plye': 2611, 'affrighted': 2612, 'sowing': 2613, 'doublet': 2614, \"vnbrac'd\": 2615, 'stockings': 2616, \"foul'd\": 2617, 'vngartred': 2618, 'giued': 2619, 'anckle': 2620, 'shirt': 2621, 'knocking': 2622, 'pitious': 2623, 'purport': 2624, 'loosed': 2625, 'horrors': 2626, 'wrist': 2627, 'perusall': 2628, 'shaking': 2629, 'wauing': 2630, \"rais'd\": 2631, 'pittious': 2632, 'shatter': 2633, 'shoulders': 2634, 'adores': 2635, 'bended': 2636, 'foredoes': 2637, 'leads': 2638, 'vndertakings': 2639, 'afflict': 2640, 'repell': 2641, \"deny'de\": 2642, 'accesse': 2643, 'quoted': 2644, 'trifle': 2645, 'wracke': 2646, 'beshrew': 2647, 'yonger': 2648, 'hate': 2649, 'vtter': 2650, 'cum': 2651, 'alijs': 2652, 'moreouer': 2653, 'prouoke': 2654, 'hastie': 2655, 'transformation': 2656, 'exterior': 2657, 'resembles': 2658, 'deeme': 2659, \"neighbour'd\": 2660, 'humour': 2661, 'companies': 2662, 'gleane': 2663, \"open'd\": 2664, 'remedie': 2665, \"talk'd\": 2666, 'adheres': 2667, 'gentrie': 2668, 'expend': 2669, 'supply': 2670, 'entreatie': 2671, 'seruices': 2672, 'feete': 2673, 'commanded': 2674, 'instantly': 2675, 'changed': 2676, 'practises': 2677, 'pleasant': 2678, 'helpfull': 2679, 'amen': 2680, 'ioyfully': 2681, 'assure': 2682, 'hunts': 2683, 'policie': 2684, 'lunacie': 2685, 'admittance': 2686, 'tels': 2687, 'hasty': 2688, 'sift': 2689, 'frends': 2690, 'greetings': 2691, 'preparation': 2692, 'highnesse': 2693, 'whereat': 2694, 'greeued': 2695, 'impotence': 2696, 'falsely': 2697, 'arrests': 2698, 'obeyes': 2699, 'receiues': 2700, 'rebuke': 2701, 'ouercome': 2702, 'crownes': 2703, 'annuall': 2704, 'imploy': 2705, 'leuied': 2706, 'intreaty': 2707, 'shewne': 2708, 'dominions': 2709, 'regards': 2710, 'therein': 2711, \"consider'd\": 2712, 'ambass': 2713, 'ended': 2714, 'expostulate': 2715, 'breuitie': 2716, 'tediousnesse': 2717, 'flourishes': 2718, 'define': 2719, 'grant': 2720, 'defect': 2721, 'defectiue': 2722, 'remainder': 2723, 'perpend': 2724, 'surmise': 2725, 'idoll': 2726, 'beautifed': 2727, 'beautified': 2728, 'lier': 2729, 'numbers': 2730, 'reckon': 2731, 'grones': 2732, 'adieu': 2733, 'euermore': 2734, 'machine': 2735, \"shew'd\": 2736, 'soliciting': 2737, 'wold': 2738, 'wing': 2739, 'perceiued': 2740, 'playd': 2741, 'deske': 2742, 'winking': 2743, 'mute': 2744, 'bespeake': 2745, 'resort': 2746, 'messengers': 2747, 'tokens': 2748, 'fruites': 2749, 'repulsed': 2750, 'sadnesse': 2751, 'lightnesse': 2752, 'declension': 2753, 'raues': 2754, 'waile': 2755, \"i'de\": 2756, 'fain': 2757, 'possitiuely': 2758, 'circumstances': 2759, 'leade': 2760, 'center': 2761, 'thereon': 2762, 'farme': 2763, 'carters': 2764, 'sadly': 2765, 'boord': 2766, \"pick'd\": 2767, 'carrion': 2768, \"i'thsunne\": 2769, 'conception': 2770, 'conceiue': 2771, 'harping': 2772, 'suffred': 2773, 'extreamity': 2774, 'slanders': 2775, 'satyricall': 2776, 'gray': 2777, 'beards': 2778, 'wrinkled': 2779, 'amber': 2780, 'plum': 2781, 'gumme': 2782, 'plentifull': 2783, 'hammes': 2784, 'powerfully': 2785, 'potently': 2786, 'holde': 2787, 'crab': 2788, 'backward': 2789, 'replies': 2790, 'happinesse': 2791, 'sanitie': 2792, 'prosperously': 2793, 'sodainely': 2794, 'except': 2795, 'rosincran': 2796, \"do'st\": 2797, 'lads': 2798, 'button': 2799, 'soales': 2800, 'shoo': 2801, 'priuates': 2802, 'parts': 2803, \"world's\": 2804, 'deserued': 2805, \"denmark's\": 2806, 'confines': 2807, 'wards': 2808, 'dungeons': 2809, 'worst': 2810, 'narrow': 2811, 'bounded': 2812, 'nutshell': 2813, 'space': 2814, 'substance': 2815, 'truely': 2816, 'ayry': 2817, 'monarchs': 2818, 'stretcht': 2819, 'heroes': 2820, 'fey': 2821, 'dreadfully': 2822, 'attended': 2823, 'beaten': 2824, 'thanks': 2825, 'halfepeny': 2826, 'inclining': 2827, 'deale': 2828, 'modesties': 2829, 'color': 2830, 'rights': 2831, 'consonancy': 2832, 'preserued': 2833, 'proposer': 2834, 'anticipation': 2835, 'discouery': 2836, 'secricie': 2837, 'moult': 2838, 'feather': 2839, 'forgone': 2840, 'sterrill': 2841, 'promontory': 2842, 'canopy': 2843, 'hanging': 2844, 'roofe': 2845, 'fretted': 2846, 'congregation': 2847, 'vapours': 2848, 'piece': 2849, 'mouing': 2850, 'admirable': 2851, 'angel': 2852, 'parragon': 2853, 'animals': 2854, 'quintessence': 2855, 'lenton': 2856, 'coated': 2857, 'playes': 2858, 'aduenturous': 2859, 'knight': 2860, 'foyle': 2861, 'target': 2862, 'louer': 2863, 'gratis': 2864, 'humorous': 2865, 'tickled': 2866, 'sere': 2867, 'blanke': 2868, 'verse': 2869, 'halt': 2870, 'tragedians': 2871, 'chances': 2872, 'trauaile': 2873, 'residence': 2874, 'reputation': 2875, 'inhibition': 2876, 'innouation': 2877, 'estimation': 2878, \"follow'd\": 2879, 'rusty': 2880, 'indeauour': 2881, 'ayrie': 2882, 'yases': 2883, 'crye': 2884, 'tyrannically': 2885, \"clap't\": 2886, 'ratled': 2887, 'stages': 2888, 'wearing': 2889, 'affraide': 2890, 'goose': 2891, 'quils': 2892, 'scarse': 2893, 'maintains': 2894, 'escorted': 2895, 'afterwards': 2896, 'writers': 2897, 'exclaim': 2898, 'tarre': 2899, 'controuersie': 2900, 'mony': 2901, 'poet': 2902, 'cuffes': 2903, 'throwing': 2904, 'boyes': 2905, 'load': 2906, 'mowes': 2907, 'forty': 2908, 'ducates': 2909, 'philosophie': 2910, 'welcom': 2911, 'appurtenance': 2912, 'ceremony': 2913, 'comply': 2914, 'garbe': 2915, 'extent': 2916, 'fairely': 2917, 'aunt': 2918, \"deceiu'd\": 2919, 'west': 2920, 'southerly': 2921, 'hawke': 2922, 'handsaw': 2923, 'hearke': 2924, 'hearer': 2925, 'swathing': 2926, 'clouts': 2927, 'monday': 2928, 'rossius': 2929, 'rome': 2930, 'historie': 2931, 'pastoricall': 2932, 'scene': 2933, 'indiuidible': 2934, 'poem': 2935, 'vnlimited': 2936, 'seneca': 2937, 'plautus': 2938, 'israel': 2939, 'lot': 2940, 'wot': 2941, 'rowe': 2942, 'pons': 2943, 'chanson': 2944, 'abridgements': 2945, 'fiue': 2946, 'ladiship': 2947, 'altitude': 2948, 'choppine': 2949, 'vncurrant': 2950, 'gold': 2951, \"crack'd\": 2952, \"to't\": 2953, 'faulconers': 2954, 'flie': 2955, 'tast': 2956, 'acted': 2957, 'million': 2958, 'cauiarie': 2959, 'digested': 2960, 'scoenes': 2961, 'sallets': 2962, 'sauory': 2963, 'indite': 2964, 'affectation': 2965, 'cheefely': 2966, 'aeneas': 2967, 'dido': 2968, 'thereabout': 2969, 'especially': 2970, 'speaks': 2971, 'priams': 2972, 'line': 2973, \"th'hyrcanian\": 2974, 'resemble': 2975, 'couched': 2976, 'ominous': 2977, \"smear'd\": 2978, 'heraldry': 2979, 'geulles': 2980, \"trick'd\": 2981, 'daughters': 2982, 'impasted': 2983, 'parching': 2984, 'streets': 2985, 'tyrannous': 2986, 'murthers': 2987, 'roasted': 2988, 'wrath': 2989, 'sized': 2990, 'coagulate': 2991, 'gore': 2992, 'carbuncles': 2993, 'hellish': 2994, 'grandsire': 2995, 'striking': 2996, 'greekes': 2997, 'repugnant': 2998, 'vnequall': 2999, 'driues': 3000, 'strikes': 3001, 'whiffe': 3002, 'vnnerued': 3003, 'illium': 3004, 'feele': 3005, 'stoopes': 3006, 'bace': 3007, 'hideous': 3008, 'crash': 3009, 'declining': 3010, 'milkie': 3011, 'reuerend': 3012, 'tyrant': 3013, 'newtrall': 3014, 'storme': 3015, 'racke': 3016, 'speechlesse': 3017, 'orbe': 3018, 'hush': 3019, 'rend': 3020, 'rowsed': 3021, 'sets': 3022, 'cyclops': 3023, 'hammers': 3024, 'armours': 3025, \"forg'd\": 3026, 'eterne': 3027, 'remorse': 3028, 'bleeding': 3029, 'synod': 3030, 'spokes': 3031, 'fallies': 3032, 'boule': 3033, 'naue': 3034, 'low': 3035, 'fiends': 3036, \"to'th\": 3037, 'barbars': 3038, 'baudry': 3039, 'threatning': 3040, 'bisson': 3041, 'rheume': 3042, 'clout': 3043, 'robe': 3044, 'lanke': 3045, 'teamed': 3046, 'loines': 3047, 'blanket': 3048, 'alarum': 3049, \"steep'd\": 3050, 'mincing': 3051, 'clamour': 3052, 'milche': 3053, 'soone': 3054, 'abstracts': 3055, 'chronicles': 3056, 'bodykins': 3057, 'euerie': 3058, 'whipping': 3059, 'deserue': 3060, 'bountie': 3061, 'need': 3062, 'study': 3063, 'dosen': 3064, 'sixteene': 3065, 'insert': 3066, 'til': 3067, \"buy'ye\": 3068, 'monstrous': 3069, 'fixion': 3070, \"warm'd\": 3071, 'aspect': 3072, 'broken': 3073, 'function': 3074, 'suiting': 3075, 'cue': 3076, 'cleaue': 3077, 'apale': 3078, 'amaze': 3079, 'metled': 3080, 'rascall': 3081, 'peake': 3082, 'iohn': 3083, 'vnpregnant': 3084, 'defeate': 3085, 'coward': 3086, 'calles': 3087, 'breakes': 3088, 'tweakes': 3089, 'pigeon': 3090, \"liuer'd\": 3091, 'oppression': 3092, 'fatted': 3093, 'kites': 3094, 'slaues': 3095, 'offall': 3096, 'bloudy': 3097, 'bawdy': 3098, 'remorselesse': 3099, 'letcherous': 3100, 'kindles': 3101, 'murthered': 3102, 'prompted': 3103, 'whore': 3104, 'vnpacke': 3105, 'cursing': 3106, 'drab': 3107, 'scullion': 3108, 'foh': 3109, 'sitting': 3110, \"proclaim'd\": 3111, 'malefactions': 3112, 'myraculous': 3113, 'organ': 3114, 'rent': 3115, 'blench': 3116, 'pleasing': 3117, 'abuses': 3118, 'damne': 3119, 'grounds': 3120, 'relatiue': 3121, \"play's\": 3122, 'confusion': 3123, 'grating': 3124, 'harshly': 3125, 'turbulent': 3126, 'lunacy': 3127, 'feeles': 3128, 'forward': 3129, 'sounded': 3130, 'crafty': 3131, 'forcing': 3132, 'niggard': 3133, 'wrought': 3134, \"beseech'd\": 3135, 'intreate': 3136, \"inclin'd\": 3137, 'closely': 3138, 'affront': 3139, 'lawful': 3140, 'espials': 3141, 'behaued': 3142, 'beauties': 3143, 'wildenesse': 3144, 'vertues': 3145, 'honors': 3146, 'lonelinesse': 3147, 'deuotions': 3148, 'surge': 3149, 'smart': 3150, 'lash': 3151, 'harlots': 3152, 'beautied': 3153, \"plaist'ring\": 3154, 'vgly': 3155, 'helpes': 3156, 'burthen': 3157, 'nobler': 3158, 'slings': 3159, 'outragious': 3160, 'opposing': 3161, 'shockes': 3162, 'heyre': 3163, 'consummation': 3164, 'deuoutly': 3165, \"wish'd\": 3166, \"shuffel'd\": 3167, 'coile': 3168, 'pawse': 3169, 'respect': 3170, 'calamity': 3171, 'scornes': 3172, 'oppressors': 3173, 'contumely': 3174, 'pangs': 3175, \"dispriz'd\": 3176, 'lawes': 3177, 'insolence': 3178, 'office': 3179, 'quietus': 3180, 'bodkin': 3181, 'fardles': 3182, 'grunt': 3183, 'vndiscouered': 3184, 'countrey': 3185, 'traueller': 3186, 'puzels': 3187, 'illes': 3188, 'cowards': 3189, 'resolution': 3190, 'sicklied': 3191, 'enterprizes': 3192, 'regard': 3193, 'nimph': 3194, 'orizons': 3195, 'remembred': 3196, 'remembrances': 3197, 'longed': 3198, \"honor'd\": 3199, \"compos'd\": 3200, 'perfume': 3201, 'wax': 3202, 'giuers': 3203, 'vnkinde': 3204, 'honesty': 3205, 'comerce': 3206, 'trulie': 3207, 'transforme': 3208, 'bawd': 3209, 'likenesse': 3210, 'sometime': 3211, 'paradox': 3212, 'beleeued': 3213, 'innocculate': 3214, 'stocke': 3215, 'deceiued': 3216, 'nunnerie': 3217, 'breeder': 3218, 'sinners': 3219, 'accuse': 3220, 'prowd': 3221, 'reuengefull': 3222, 'becke': 3223, 'crawling': 3224, 'knaues': 3225, 'shut': 3226, 'doest': 3227, 'dowrie': 3228, 'calumny': 3229, 'fool': 3230, 'monsters': 3231, 'quickly': 3232, 'farwell': 3233, 'restore': 3234, 'pratlings': 3235, 'gidge': 3236, 'amble': 3237, 'lispe': 3238, 'nickname': 3239, 'wantonnesse': 3240, 'marriages': 3241, 'keep': 3242, 'expectansie': 3243, 'mould': 3244, \"obseru'd\": 3245, 'obseruers': 3246, 'deiect': 3247, \"suck'd\": 3248, 'honie': 3249, 'bels': 3250, 'iangled': 3251, \"vnmatch'd\": 3252, 'affections': 3253, 'spake': 3254, \"lack'd\": 3255, 'brood': 3256, 'hatch': 3257, 'disclose': 3258, 'determination': 3259, 'different': 3260, 'obiects': 3261, 'setled': 3262, 'origin': 3263, 'commencement': 3264, 'sprung': 3265, \"plac'd\": 3266, 'conference': 3267, \"vnwatch'd\": 3268, 'trippingly': 3269, 'town': 3270, 'cryer': 3271, 'gently': 3272, 'torrent': 3273, 'tempest': 3274, 'whirle': 3275, 'acquire': 3276, 'beget': 3277, 'temperance': 3278, 'smoothnesse': 3279, 'offends': 3280, 'robustious': 3281, 'pery': 3282, 'wig': 3283, 'pated': 3284, 'tatters': 3285, 'ragges': 3286, 'split': 3287, 'groundlings': 3288, 'inexplicable': 3289, 'whipt': 3290, 'termagant': 3291, \"outherod's\": 3292, 'herod': 3293, 'auoid': 3294, 'tutor': 3295, 'sute': 3296, \"'twer\": 3297, 'mirrour': 3298, 'scorne': 3299, 'pressure': 3300, 'tardie': 3301, 'vnskilfull': 3302, 'iudicious': 3303, \"o'reway\": 3304, 'theater': 3305, 'highly': 3306, 'prophanely': 3307, 'christians': 3308, 'pagan': 3309, 'strutted': 3310, 'bellowed': 3311, 'iouerney': 3312, 'imitated': 3313, 'humanity': 3314, 'abhominably': 3315, \"reform'd\": 3316, 'indifferently': 3317, 'reforme': 3318, 'altogether': 3319, 'barren': 3320, 'spectators': 3321, 'considered': 3322, 'villanous': 3323, 'pittifull': 3324, 'hasten': 3325, 'eene': 3326, 'conuersation': 3327, \"coap'd\": 3328, 'flatter': 3329, 'reuennew': 3330, 'cloath': 3331, 'shold': 3332, 'poor': 3333, \"flatter'd\": 3334, 'candied': 3335, 'pompe': 3336, 'crooke': 3337, 'hindges': 3338, 'knee': 3339, 'faining': 3340, 'choyse': 3341, 'distinguish': 3342, 'suffering': 3343, 'buffets': 3344, \"'tane\": 3345, 'co': 3346, 'mingled': 3347, 'passions': 3348, 'core': 3349, \"see'st\": 3350, 'comment': 3351, 'occulted': 3352, 'vnkennell': 3353, 'imaginations': 3354, 'vulcans': 3355, 'stythe': 3356, 'riuet': 3357, 'steale': 3358, 'detecting': 3359, 'theft': 3360, 'carrying': 3361, 'torches': 3362, 'camelions': 3363, 'dish': 3364, \"cramm'd\": 3365, 'capons': 3366, 'vniuersity': 3367, 'accounted': 3368, 'iulius': 3369, 'capitol': 3370, 'brutus': 3371, 'calfe': 3372, 'ready': 3373, 'attractiue': 3374, 'ladie': 3375, 'ly': 3376, 'legs': 3377, \"within's\": 3378, 'sables': 3379, 'ago': 3380, 'forgotten': 3381, 'builde': 3382, 'churches': 3383, 'horsse': 3384, 'hoboyes': 3385, 'enters': 3386, 'louingly': 3387, 'embracing': 3388, 'kneeles': 3389, 'protestation': 3390, 'declines': 3391, 'neck': 3392, 'layes': 3393, 'banke': 3394, 'exits': 3395, 'carried': 3396, 'wooes': 3397, 'loath': 3398, 'vnwilling': 3399, 'accepts': 3400, 'miching': 3401, 'malicho': 3402, 'mischeefe': 3403, \"asham'd\": 3404, \"hee'l\": 3405, 'stooping': 3406, 'clemencie': 3407, 'patientlie': 3408, 'poesie': 3409, 'womans': 3410, 'phoebus': 3411, 'cart': 3412, 'gon': 3413, 'neptunes': 3414, 'tellus': 3415, 'orbed': 3416, 'moones': 3417, 'borrowed': 3418, 'sheene': 3419, 'thirties': 3420, 'hymen': 3421, 'vnite': 3422, 'comutuall': 3423, 'sacred': 3424, 'bands': 3425, 'iournies': 3426, 'discomfort': 3427, 'womens': 3428, 'extremity': 3429, \"siz'd\": 3430, 'operant': 3431, 'functions': 3432, \"belou'd\": 3433, 'brest': 3434, 'accurst': 3435, 'bapt': 3436, 'instances': 3437, 'respects': 3438, 'determine': 3439, 'validitie': 3440, 'fruite': 3441, 'vnripe': 3442, 'stickes': 3443, 'vnshaken': 3444, 'mellow': 3445, 'debt': 3446, 'ending': 3447, 'ennactors': 3448, 'reuels': 3449, 'greeues': 3450, 'slender': 3451, 'fauourites': 3452, 'flies': 3453, \"aduanc'd\": 3454, 'frend': 3455, 'hollow': 3456, 'directly': 3457, 'seasons': 3458, 'enemie': 3459, 'orderly': 3460, 'willes': 3461, 'fates': 3462, 'contrary': 3463, 'deuices': 3464, 'ouerthrowne': 3465, 'food': 3466, 'repose': 3467, 'opposite': 3468, 'blankes': 3469, 'strife': 3470, 'widdow': 3471, 'deepely': 3472, 'rocke': 3473, 'protests': 3474, 'trap': 3475, 'tropically': 3476, 'vienna': 3477, 'dukes': 3478, 'baptista': 3479, \"o'that\": 3480, 'touches': 3481, \"gall'd\": 3482, 'iade': 3483, 'winch': 3484, 'withers': 3485, 'vnrung': 3486, 'nephew': 3487, 'chorus': 3488, 'interpret': 3489, 'puppets': 3490, 'dallying': 3491, 'groaning': 3492, 'mistake': 3493, 'pox': 3494, 'damnable': 3495, 'croaking': 3496, 'rauen': 3497, 'bellow': 3498, 'lucian': 3499, 'drugges': 3500, 'agreeing': 3501, 'confederate': 3502, 'mixture': 3503, 'midnight': 3504, 'hecats': 3505, 'ban': 3506, 'infected': 3507, 'magicke': 3508, 'dire': 3509, 'propertie': 3510, 'vsurpe': 3511, 'immediately': 3512, 'poysons': 3513, \"name's\": 3514, 'extant': 3515, 'italian': 3516, 'murtherer': 3517, 'gets': 3518, \"gonzago's\": 3519, 'frighted': 3520, 'strucken': 3521, 'hart': 3522, 'vngalled': 3523, 'runnes': 3524, 'forrest': 3525, 'feathers': 3526, 'turke': 3527, 'prouinciall': 3528, 'roses': 3529, \"rac'd\": 3530, 'crie': 3531, 'share': 3532, 'damon': 3533, 'realme': 3534, 'dismantled': 3535, 'reignes': 3536, 'paiocke': 3537, \"rim'd\": 3538, 'ghosts': 3539, 'pound': 3540, 'perceiue': 3541, 'poysoning': 3542, 'musick': 3543, 'y': 3544, 'recorders': 3545, 'perdie': 3546, 'history': 3547, 'retyrement': 3548, 'maruellous': 3549, \"distemper'd\": 3550, 'doctor': 3551, 'purgation': 3552, 'plundge': 3553, 'affayre': 3554, 'pronounce': 3555, 'courtesie': 3556, \"diseas'd\": 3557, 'answers': 3558, 'therfore': 3559, 'behauior': 3560, 'stroke': 3561, 'astonish': 3562, 'sequell': 3563, 'pickers': 3564, 'stealers': 3565, 'barre': 3566, 'libertie': 3567, 'prouerbe': 3568, 'musty': 3569, 'toyle': 3570, 'vnmannerly': 3571, 'easie': 3572, 'lying': 3573, 'gouerne': 3574, 'ventiges': 3575, 'thumbe': 3576, 'stoppes': 3577, 'vtterance': 3578, 'hermony': 3579, 'stops': 3580, 'mysterie': 3581, 'lowest': 3582, 'compasse': 3583, 'organe': 3584, 'easier': 3585, 'fret': 3586, 'clowd': 3587, \"back'd\": 3588, 'easily': 3589, 'witching': 3590, 'churchyards': 3591, 'yawne': 3592, 'breaths': 3593, 'drink': 3594, 'quake': 3595, 'nero': 3596, 'firme': 3597, 'hypocrites': 3598, 'someuer': 3599, 'shent': 3600, 'seales': 3601, 'range': 3602, 'forthwith': 3603, 'endure': 3604, 'hazard': 3605, 'hourely': 3606, 'lunacies': 3607, 'prouide': 3608, 'holie': 3609, 'religious': 3610, 'strength': 3611, 'noyance': 3612, 'dies': 3613, 'gulfe': 3614, 'massie': 3615, 'somnet': 3616, 'highest': 3617, 'huge': 3618, 'spoakes': 3619, 'lesser': 3620, \"mortiz'd\": 3621, \"adioyn'd\": 3622, 'small': 3623, 'annexment': 3624, 'pettie': 3625, 'attends': 3626, 'boystrous': 3627, 'ruine': 3628, 'sighe': 3629, 'grone': 3630, 'speedie': 3631, 'fetters': 3632, 'footed': 3633, 'conuey': 3634, 'tax': 3635, 'partiall': 3636, 'smels': 3637, 'primall': 3638, 'eldest': 3639, 'curse': 3640, 'sharpe': 3641, 'defeats': 3642, 'neglect': 3643, 'thicker': 3644, 'raine': 3645, 'confront': 3646, 'fold': 3647, 'stalled': 3648, 'serue': 3649, 'possest': 3650, 'retaine': 3651, 'corrupted': 3652, 'gilded': 3653, 'shoue': 3654, 'iustice': 3655, 'prize': 3656, 'buyes': 3657, \"compell'd\": 3658, 'euidence': 3659, 'repentance': 3660, 'limed': 3661, 'strugling': 3662, \"ingag'd\": 3663, 'stubborne': 3664, 'strings': 3665, 'sinewes': 3666, 'babe': 3667, 'pat': 3668, 'praying': 3669, \"scann'd\": 3670, 'hyre': 3671, 'sallery': 3672, 'grossely': 3673, 'bread': 3674, 'fresh': 3675, 'audit': 3676, \"season'd\": 3677, 'hent': 3678, 'drunke': 3679, 'asleepe': 3680, 'trip': 3681, 'kicke': 3682, 'stayes': 3683, 'physicke': 3684, 'prolongs': 3685, 'sickly': 3686, 'remain': 3687, 'prankes': 3688, \"screen'd\": 3689, 'stoode': 3690, 'coming': 3691, 'whats': 3692, 'rood': 3693, 'boudge': 3694, 'inmost': 3695, 'ducate': 3696, 'marrie': 3697, 'intruding': 3698, 'betters': 3699, \"find'st\": 3700, 'busie': 3701, 'wringing': 3702, 'wring': 3703, 'penetrable': 3704, \"braz'd\": 3705, 'bulwarke': 3706, \"dar'st\": 3707, 'tong': 3708, 'blurres': 3709, 'hypocrite': 3710, 'innocent': 3711, 'blister': 3712, 'dicers': 3713, 'oathes': 3714, 'contraction': 3715, 'religion': 3716, 'rapsidie': 3717, 'solidity': 3718, 'compound': 3719, 'tristfull': 3720, 'doome': 3721, 'roares': 3722, 'thunders': 3723, 'index': 3724, 'counterfet': 3725, 'presentment': 3726, 'seated': 3727, 'hyperions': 3728, 'curles': 3729, 'front': 3730, 'threaten': 3731, 'herald': 3732, 'mercurie': 3733, 'lighted': 3734, 'combination': 3735, \"mildew'd\": 3736, 'blasting': 3737, 'wholsom': 3738, 'batten': 3739, 'moore': 3740, 'humble': 3741, 'waites': 3742, 'cousend': 3743, 'hoodman': 3744, 'blinde': 3745, 'mutine': 3746, 'matrons': 3747, 'waxe': 3748, 'compulsiue': 3749, 'ardure': 3750, 'frost': 3751, 'actiuely': 3752, 'panders': 3753, \"turn'st\": 3754, 'grained': 3755, 'spots': 3756, 'tinct': 3757, 'enseamed': 3758, \"stew'd\": 3759, 'honying': 3760, 'nasty': 3761, 'stye': 3762, 'twentieth': 3763, 'tythe': 3764, 'precedent': 3765, 'cutpurse': 3766, 'empire': 3767, 'rule': 3768, 'shelfe': 3769, 'pocket': 3770, 'shreds': 3771, 'patches': 3772, 'houer': 3773, 'guards': 3774, 'tardy': 3775, 'chide': 3776, \"laps't\": 3777, 'important': 3778, 'acting': 3779, 'whet': 3780, 'blunted': 3781, 'weakest': 3782, 'strongest': 3783, 'workes': 3784, 'vacancie': 3785, 'corporall': 3786, 'soldiours': 3787, 'alarme': 3788, 'bedded': 3789, 'excrements': 3790, 'sprinkle': 3791, 'coole': 3792, 'glares': 3793, \"conioyn'd\": 3794, 'preaching': 3795, 'stones': 3796, 'pitteous': 3797, 'sterne': 3798, 'steals': 3799, 'portall': 3800, 'coynage': 3801, 'bodilesse': 3802, 'creation': 3803, 'pulse': 3804, 'temperately': 3805, 'healthfull': 3806, 'vttered': 3807, 'test': 3808, 'gamboll': 3809, 'flattering': 3810, 'trespasse': 3811, 'skin': 3812, 'filme': 3813, 'vlcerous': 3814, 'mining': 3815, 'infects': 3816, 'compost': 3817, 'weedes': 3818, 'fatnesse': 3819, 'pursie': 3820, 'courb': 3821, 'cleft': 3822, 'worser': 3823, 'purer': 3824, 'vnkles': 3825, 'refraine': 3826, 'abstinence': 3827, 'desirous': 3828, 'punish': 3829, 'minister': 3830, 'blunt': 3831, 'pinch': 3832, 'reechie': 3833, 'padling': 3834, 'rauell': 3835, 'essentially': 3836, 'sober': 3837, 'paddocke': 3838, 'bat': 3839, 'gibbe': 3840, 'concernings': 3841, 'despight': 3842, 'vnpegge': 3843, 'birds': 3844, 'famous': 3845, 'conclusions': 3846, 'creepe': 3847, 'concluded': 3848, 'packing': 3849, 'lugge': 3850, 'neighbor': 3851, 'counsellor': 3852, 'prating': 3853, 'tugging': 3854, 'sighes': 3855, 'heaues': 3856, 'contend': 3857, 'mightier': 3858, 'lawlesse': 3859, 'brainish': 3860, 'threats': 3861, 'answered': 3862, \"restrain'd\": 3863, 'haunt': 3864, 'owner': 3865, 'disease': 3866, 'divulging': 3867, 'kild': 3868, 'oare': 3869, 'among': 3870, 'minerall': 3871, 'mettels': 3872, 'weepes': 3873, 'excuse': 3874, 'ayde': 3875, 'clossets': 3876, \"drag'd\": 3877, 'vntimely': 3878, 'discord': 3879, 'dismay': 3880, 'stowed': 3881, 'ro': 3882, 'compounded': 3883, 'kinne': 3884, 'besides': 3885, 'demanded': 3886, 'replication': 3887, 'sokes': 3888, 'authorities': 3889, 'corner': 3890, \"mouth'd\": 3891, 'swallowed': 3892, 'needes': 3893, \"glean'd\": 3894, 'squeezing': 3895, 'fox': 3896, 'multitude': 3897, 'offenders': 3898, 'deliberate': 3899, 'diseases': 3900, 'appliance': 3901, 'releeued': 3902, 'befalne': 3903, 'guarded': 3904, 'eats': 3905, 'eaten': 3906, 'conuocation': 3907, 'worm': 3908, 'emperor': 3909, 'leane': 3910, 'dishes': 3911, 'progresse': 3912, \"i'th\": 3913, 'staires': 3914, 'k': 3915, 'especial': 3916, 'deerely': 3917, 'fierie': 3918, 'quicknesse': 3919, 'barke': 3920, 'associates': 3921, \"knew'st\": 3922, 'cherube': 3923, \"see's\": 3924, 'leanes': 3925, 'holdst': 3926, 'thereof': 3927, 'cicatrice': 3928, 'raw': 3929, 'payes': 3930, 'homage': 3931, 'maist': 3932, 'coniuring': 3933, 'hecticke': 3934, 'rages': 3935, 'cure': 3936, 'happes': 3937, \"ne're\": 3938, 'armie': 3939, 'captaine': 3940, 'greet': 3941, 'license': 3942, 'claimes': 3943, 'conueyance': 3944, 'rendeuous': 3945, 'importunate': 3946, 'distract': 3947, 'moode': 3948, 'pittied': 3949, 'hems': 3950, 'beats': 3951, 'enuiously': 3952, 'strawes': 3953, 'vnshaped': 3954, 'ayme': 3955, 'botch': 3956, 'winkes': 3957, 'nods': 3958, 'gestures': 3959, 'yeeld': 3960, 'vnhappily': 3961, 'strew': 3962, 'coniectures': 3963, 'amisse': 3964, 'artlesse': 3965, \"spill's\": 3966, 'fearing': 3967, 'spilt': 3968, 'beauteous': 3969, 'denmark': 3970, 'cockle': 3971, 'staffe': 3972, 'sandal': 3973, 'shoone': 3974, 'song': 3975, 'turfe': 3976, \"shrow'd\": 3977, 'bewept': 3978, 'showres': 3979, \"dil'd\": 3980, 'owle': 3981, 'bakers': 3982, 'valentines': 3983, 'betime': 3984, 'window': 3985, 'valentine': 3986, \"don'd\": 3987, 'clothes': 3988, 'dupt': 3989, 'dore': 3990, 'departed': 3991, 'ont': 3992, 'gis': 3993, 'charity': 3994, 'quoth': 3995, 'tumbled': 3996, 'yonder': 3997, 'hadst': 3998, 'knowe': 3999, 'coach': 4000, 'springs': 4001, 'sorrowes': 4002, 'spies': 4003, 'battalians': 4004, 'people': 4005, 'muddied': 4006, 'vnwholsome': 4007, 'whispers': 4008, 'greenly': 4009, 'hugger': 4010, 'mugger': 4011, 'interre': 4012, 'diuided': 4013, 'pictures': 4014, 'containing': 4015, 'buzzers': 4016, 'infect': 4017, 'speeches': 4018, 'necessitie': 4019, 'beggard': 4020, 'arraigne': 4021, 'murdering': 4022, 'places': 4023, 'superfluous': 4024, 'switzers': 4025, 'ocean': 4026, 'peering': 4027, 'eates': 4028, 'flats': 4029, 'impittious': 4030, 'riotous': 4031, 'rabble': 4032, 'antiquity': 4033, 'ratifiers': 4034, 'props': 4035, 'caps': 4036, 'applaud': 4037, 'counter': 4038, 'dogges': 4039, 'al': 4040, 'calmely': 4041, 'drop': 4042, 'calmes': 4043, 'bastard': 4044, 'cuckold': 4045, 'brands': 4046, 'harlot': 4047, 'chaste': 4048, 'vnsmirched': 4049, 'rebellion': 4050, 'gyant': 4051, 'hedge': 4052, 'incenst': 4053, 'fill': 4054, \"iuggel'd\": 4055, 'allegeance': 4056, 'blackest': 4057, 'profoundest': 4058, 'damnation': 4059, 'worlds': 4060, 'negligence': 4061, 'throughly': 4062, 'certaintie': 4063, 'soop': 4064, 'stake': 4065, 'winner': 4066, 'looser': 4067, 'ope': 4068, \"rend'ring\": 4069, 'politician': 4070, 'repast': 4071, 'guiltlesse': 4072, 'leuell': 4073, 'pierce': 4074, 'drie': 4075, 'seuen': 4076, 'payed': 4077, 'waight': 4078, 'beame': 4079, 'instance': 4080, \"fac'd\": 4081, 'beer': 4082, 'non': 4083, 'raines': 4084, 'perswade': 4085, 'steward': 4086, 'nothings': 4087, 'rosemary': 4088, 'remembraunce': 4089, 'paconcies': 4090, 'document': 4091, 'fitted': 4092, 'fennell': 4093, 'columbines': 4094, \"ther's\": 4095, 'herbe': 4096, 'sundaies': 4097, 'difference': 4098, 'daysie': 4099, \"wither'd\": 4100, 'bonny': 4101, 'robin': 4102, 'prettinesse': 4103, 'flaxen': 4104, 'mone': 4105, 'gramercy': 4106, 'choice': 4107, \"'twixt\": 4108, 'colaterall': 4109, \"touch'd\": 4110, 'satisfaction': 4111, 'ioyntly': 4112, 'due': 4113, 'obscure': 4114, 'trophee': 4115, 'hatchment': 4116, 'rite': 4117, 'formall': 4118, 'ostentation': 4119, 'ser': 4120, 'greeted': 4121, 'saylor': 4122, \"and't\": 4123, 'ambassadours': 4124, 'reads': 4125, \"ouerlook'd\": 4126, 'pyrate': 4127, 'warlicke': 4128, 'appointment': 4129, 'chace': 4130, 'compelled': 4131, 'valour': 4132, 'boorded': 4133, 'cleare': 4134, 'shippe': 4135, 'became': 4136, 'dealt': 4137, 'theeues': 4138, 'knowest': 4139, 'speedier': 4140, 'acquittance': 4141, 'seal': 4142, 'sith': 4143, 'knowing': 4144, 'pursued': 4145, 'proceeded': 4146, 'feates': 4147, 'crimefull': 4148, 'mainly': 4149, \"stirr'd\": 4150, 'reasons': 4151, 'vnsinnowed': 4152, \"she's\": 4153, 'coniunctiue': 4154, 'moues': 4155, 'sphere': 4156, 'publike': 4157, 'gender': 4158, 'dipping': 4159, 'turneth': 4160, 'wood': 4161, 'gyues': 4162, 'timbred': 4163, 'loud': 4164, 'reuerted': 4165, 'driuen': 4166, 'praises': 4167, 'challenger': 4168, 'perfections': 4169, 'shooke': 4170, 'imagine': 4171, 'claudio': 4172, 'kingly': 4173, 'thereunto': 4174, 'recount': 4175, 'abuse': 4176, 'postscript': 4177, 'aduise': 4178, 'warmes': 4179, 'diddest': 4180, \"o'rerule\": 4181, 'checking': 4182, 'exployt': 4183, 'ripe': 4184, 'deuice': 4185, 'vncharge': 4186, 'monthes': 4187, 'normandy': 4188, 'ran': 4189, 'horsebacke': 4190, 'gallant': 4191, 'grew': 4192, 'seat': 4193, \"encorps't\": 4194, 'demy': 4195, \"natur'd\": 4196, 'forgery': 4197, 'lamound': 4198, 'brooch': 4199, 'iemme': 4200, 'masterly': 4201, 'especiall': 4202, 'cryed': 4203, \"t'would\": 4204, 'envenom': 4205, 'enuy': 4206, 'painting': 4207, 'passages': 4208, 'qualifies': 4209, 'sparke': 4210, 'sancturize': 4211, 'bounds': 4212, 'varnish': 4213, 'fame': 4214, 'frenchman': 4215, 'heads': 4216, 'remisse': 4217, 'contriuing': 4218, 'peruse': 4219, 'foiles': 4220, 'vnbaited': 4221, 'requit': 4222, 'annoint': 4223, 'bought': 4224, 'mountebanke': 4225, 'dipt': 4226, 'knife': 4227, 'cataplasme': 4228, 'rare': 4229, 'simples': 4230, 'scratcht': 4231, 'weigh': 4232, 'conuenience': 4233, 'faile': 4234, 'performance': 4235, 'assaid': 4236, 'proiect': 4237, 'commings': 4238, 'bowts': 4239, \"prepar'd\": 4240, 'challice': 4241, 'nonce': 4242, 'sipping': 4243, \"venom'd\": 4244, 'stuck': 4245, 'tread': 4246, 'anothers': 4247, 'heele': 4248, \"sister's\": 4249, 'willow': 4250, 'aslant': 4251, 'hore': 4252, 'glassie': 4253, 'streame': 4254, 'fantasticke': 4255, 'garlands': 4256, 'crow': 4257, 'nettles': 4258, 'daysies': 4259, 'purples': 4260, 'shepheards': 4261, 'grosser': 4262, 'pendant': 4263, 'boughes': 4264, 'coronet': 4265, 'clambring': 4266, 'enuious': 4267, 'sliuer': 4268, 'weedy': 4269, 'trophies': 4270, 'weeping': 4271, 'cloathes': 4272, 'mermaid': 4273, 'chaunted': 4274, 'snatches': 4275, 'tunes': 4276, 'incapable': 4277, 'distresse': 4278, 'indued': 4279, 'element': 4280, 'garments': 4281, \"pul'd\": 4282, 'melodious': 4283, 'blaze': 4284, 'folly': 4285, 'doubts': 4286, 'calme': 4287, 'wilfully': 4288, 'crowner': 4289, 'finds': 4290, 'drowned': 4291, 'se': 4292, 'offendendo': 4293, 'argues': 4294, 'branches': 4295, 'performe': 4296, 'goodman': 4297, 'deluer': 4298, 'nill': 4299, 'drownes': 4300, 'shortens': 4301, 'crowners': 4302, 'quest': 4303, 'gentlewoman': 4304, 'shee': 4305, \"say'st\": 4306, 'folke': 4307, 'ancient': 4308, 'gardiners': 4309, 'ditchers': 4310, 'makers': 4311, 'adams': 4312, 'profession': 4313, \"ar't\": 4314, 'heathen': 4315, 'adam': 4316, \"dig'd\": 4317, 'answerest': 4318, 'outliues': 4319, 'tenants': 4320, 'built': 4321, 'vnyoake': 4322, 'cudgell': 4323, 'mend': 4324, \"ask't\": 4325, 'lasts': 4326, 'yaughan': 4327, 'stoupe': 4328, 'contract': 4329, 'behoue': 4330, 'feeling': 4331, 'daintier': 4332, 'stealing': 4333, 'steps': 4334, 'clutch': 4335, 'shipped': 4336, 'intill': 4337, 'iowles': 4338, 'caines': 4339, 'bone': 4340, 'polititian': 4341, 'offices': 4342, 'circumuent': 4343, \"prais'd\": 4344, 'chaplesse': 4345, 'knockt': 4346, 'mazard': 4347, 'sextons': 4348, 'reuolution': 4349, \"see't\": 4350, 'loggets': 4351, 'pickhaxe': 4352, 'shrowding': 4353, 'sheete': 4354, 'lawyer': 4355, 'quiddits': 4356, 'quillets': 4357, 'cases': 4358, 'tenures': 4359, 'tricks': 4360, \"doe's\": 4361, 'knocke': 4362, 'sconce': 4363, 'dirty': 4364, 'shouell': 4365, 'battery': 4366, 'hum': 4367, 'buyer': 4368, 'statutes': 4369, 'recognizances': 4370, 'recouery': 4371, 'vouch': 4372, 'purchases': 4373, 'breadth': 4374, 'indentures': 4375, 'conueyances': 4376, 'hardly': 4377, 'boxe': 4378, 'inheritor': 4379, 'parchment': 4380, 'sheep': 4381, 'calue': 4382, 'sheepe': 4383, 'calues': 4384, 'seek': 4385, \"graue's\": 4386, 'lyest': 4387, \"shee's\": 4388, 'absolute': 4389, 'carde': 4390, 'equiuocation': 4391, 'vndoe': 4392, 'picked': 4393, 'kibe': 4394, \"o'recame\": 4395, 'because': 4396, 'loosing': 4397, 'sixeteene': 4398, 'thirty': 4399, 'lie': 4400, 'rot': 4401, 'pocky': 4402, 'coarses': 4403, 'adaies': 4404, 'scarce': 4405, 'eight': 4406, 'tanner': 4407, \"tan'd\": 4408, 'decayer': 4409, 'horson': 4410, 'heres': 4411, 'scul': 4412, 'laine': 4413, 'years': 4414, 'whoreson': 4415, 'pestilence': 4416, \"pour'd\": 4417, 'flaggon': 4418, 'yoricks': 4419, 'iester': 4420, 'yorick': 4421, 'abhorred': 4422, 'gorge': 4423, 'hung': 4424, 'lipps': 4425, 'kist': 4426, 'iibes': 4427, 'gambals': 4428, 'flashes': 4429, 'merriment': 4430, 'rore': 4431, 'ieering': 4432, 'chopfalne': 4433, 'paint': 4434, 'inch': 4435, \"o'this\": 4436, 'smelt': 4437, 'trace': 4438, 'stopping': 4439, 'bunghole': 4440, 'curiously': 4441, 'thether': 4442, 'likeliehood': 4443, 'died': 4444, 'returneth': 4445, 'conuerted': 4446, 'stopp': 4447, 'beere': 4448, 'barrell': 4449, 'hole': 4450, 'patch': 4451, 'wall': 4452, 'winters': 4453, 'flaw': 4454, 'aside': 4455, 'coffin': 4456, 'maimed': 4457, 'betoken': 4458, 'disperate': 4459, 'obsequies': 4460, \"inlarg'd\": 4461, 'warrantie': 4462, 'swaies': 4463, 'vnsanctified': 4464, \"lodg'd\": 4465, 'praier': 4466, 'shardes': 4467, 'flints': 4468, 'peebles': 4469, 'virgin': 4470, 'strewments': 4471, 'bringing': 4472, 'prophane': 4473, 'sage': 4474, 'requiem': 4475, 'parted': 4476, 'vnpolluted': 4477, 'churlish': 4478, 'ministring': 4479, 'howling': 4480, 'sweets': 4481, \"hop'd\": 4482, 'bride': 4483, 'deckt': 4484, \"strew'd\": 4485, 'terrible': 4486, 'woer': 4487, 'trebble': 4488, 'ingenious': 4489, \"depriu'd\": 4490, 'leaps': 4491, 'pile': 4492, 'pelion': 4493, 'skyish': 4494, 'blew': 4495, 'olympus': 4496, 'griefes': 4497, 'emphasis': 4498, 'wandring': 4499, 'deuill': 4500, \"prai'st\": 4501, 'spleenatiue': 4502, 'wisenesse': 4503, 'asunder': 4504, 'gen': 4505, 'vppon': 4506, 'theme': 4507, 'vntill': 4508, 'eielids': 4509, 'fortie': 4510, 'summe': 4511, 'forbeare': 4512, 'esile': 4513, 'crocodile': 4514, 'whine': 4515, 'outface': 4516, 'leaping': 4517, 'prate': 4518, 'millions': 4519, 'akers': 4520, 'sindging': 4521, 'zone': 4522, 'ossa': 4523, 'wart': 4524, 'rant': 4525, 'female': 4526, 'cuplet': 4527, 'drooping': 4528, 'cat': 4529, 'mew': 4530, 'strengthen': 4531, 'push': 4532, 'monument': 4533, 'proceeding': 4534, 'mutines': 4535, 'bilboes': 4536, 'rashly': 4537, 'rashnesse': 4538, 'indiscretion': 4539, 'paule': 4540, 'rough': 4541, 'cabin': 4542, 'gowne': 4543, 'scarft': 4544, 'darke': 4545, \"grop'd\": 4546, \"finger'd\": 4547, 'packet': 4548, 'withdrew': 4549, 'feares': 4550, 'forgetting': 4551, 'manners': 4552, 'vnseale': 4553, 'grand': 4554, 'knauery': 4555, 'exact': 4556, 'seuerall': 4557, 'sorts': 4558, 'denmarks': 4559, 'englands': 4560, 'hoo': 4561, 'bugges': 4562, 'goblins': 4563, 'superuize': 4564, 'leasure': 4565, 'bated': 4566, 'grinding': 4567, 'struck': 4568, 'proceed': 4569, 'benetted': 4570, 'villaines': 4571, \"deuis'd\": 4572, 'statists': 4573, 'basenesse': 4574, 'write': 4575, 'laboured': 4576, 'learning': 4577, 'yeomans': 4578, 'seriuce': 4579, 'earnest': 4580, 'coniuration': 4581, 'tributary': 4582, 'wheaten': 4583, 'garland': 4584, 'comma': 4585, \"'tweene\": 4586, 'amities': 4587, 'assis': 4588, 'contents': 4589, 'debatement': 4590, 'bearers': 4591, 'shriuing': 4592, 'ordinate': 4593, 'signet': 4594, 'modell': 4595, 'folded': 4596, \"subscrib'd\": 4597, \"gau't\": 4598, 'impression': 4599, \"plac't\": 4600, 'changeling': 4601, 'sement': 4602, 'debate': 4603, 'insinuation': 4604, 'incensed': 4605, 'opposites': 4606, 'thinkst': 4607, \"kil'd\": 4608, \"whor'd\": 4609, 'popt': 4610, 'hopes': 4611, 'angle': 4612, 'coozenage': 4613, 'perfect': 4614, \"interim's\": 4615, \"life's\": 4616, 'portraiture': 4617, 'brauery': 4618, 'towring': 4619, 'back': 4620, 'thank': 4621, 'waterflie': 4622, 'fertile': 4623, 'crib': 4624, 'messe': 4625, 'chowgh': 4626, 'spacious': 4627, 'possession': 4628, 'diligence': 4629, 'bonet': 4630, 'northerly': 4631, 'exceedingly': 4632, 'dagger': 4633, 'weapons': 4634, \"wag'd\": 4635, 'six': 4636, 'poniards': 4637, 'girdle': 4638, 'responsiue': 4639, 'hilts': 4640, 'delicate': 4641, 'germaine': 4642, 'swords': 4643, 'conceited': 4644, 'passes': 4645, 'exceed': 4646, 'imediate': 4647, 'hall': 4648, 'gaine': 4649, 'redeliuer': 4650, 'lapwing': 4651, 'runs': 4652, 'shell': 4653, 'complie': 4654, 'dugge': 4655, \"suck't\": 4656, 'drossie': 4657, 'dotes': 4658, 'only': 4659, 'yesty': 4660, 'carries': 4661, 'winnowed': 4662, 'tryalls': 4663, 'bubbles': 4664, 'continuall': 4665, 'winne': 4666, 'foolery': 4667, 'gain': 4668, 'trouble': 4669, 'dislike': 4670, 'forestall': 4671, 'whit': 4672, 'defie': 4673, 'augury': 4674, 'sparrow': 4675, 'readinesse': 4676, 'betimes': 4677, 'gauntlets': 4678, 'flagons': 4679, \"pardon't\": 4680, 'punisht': 4681, 'exception': 4682, 'denies': 4683, 'faction': 4684, 'disclaiming': 4685, \"purpos'd\": 4686, 'arrow': 4687, 'satisfied': 4688, 'case': 4689, 'reconcilement': 4690, 'elder': 4691, 'president': 4692, \"vngorg'd\": 4693, \"offer'd\": 4694, 'foile': 4695, 'darkest': 4696, 'mocke': 4697, 'cousen': 4698, 'weaker': 4699, \"better'd\": 4700, 'stopes': 4701, 'battlements': 4702, 'ordinance': 4703, 'successiue': 4704, 'denmarkes': 4705, 'worne': 4706, 'cups': 4707, 'cannoneer': 4708, 'cannons': 4709, 'iudges': 4710, 'palpable': 4711, 'pearle': 4712, 'bout': 4713, 'scant': 4714, 'napkin': 4715, 'browes': 4716, 'carowses': 4717, \"thinke't\": 4718, 'dally': 4719, \"affear'd\": 4720, 'scuffling': 4721, \"incens'd\": 4722, 'bleed': 4723, 'woodcocke': 4724, 'sprindge': 4725, 'sounds': 4726, 'bleede': 4727, 'villany': 4728, \"lock'd\": 4729, 'medicine': 4730, 'vnbated': 4731, 'practise': 4732, \"king's\": 4733, 'hurts': 4734, 'murdrous': 4735, 'potion': 4736, \"temp'red\": 4737, 'forgiuenesse': 4738, 'adiew': 4739, 'sergeant': 4740, \"strick'd\": 4741, 'arrest': 4742, \"liu'st\": 4743, 'causes': 4744, 'vnsatisfied': 4745, 'antike': 4746, 'roman': 4747, \"th'art\": 4748, \"haue't\": 4749, 'standing': 4750, 'vnknowne': 4751, 'behind': 4752, 'absent': 4753, 'felicitie': 4754, 'paine': 4755, 'storie': 4756, 'afarre': 4757, 'shout': 4758, 'conquest': 4759, 'poland': 4760, 'volly': 4761, 'crowes': 4762, 'dying': 4763, 'occurrents': 4764, 'solicited': 4765, 'cracke': 4766, 'flights': 4767, 'english': 4768, 'ambassador': 4769, 'colours': 4770, 'fortin': 4771, 'search': 4772, 'quarry': 4773, 'hauocke': 4774, 'proud': 4775, 'cell': 4776, 'princes': 4777, 'bloodily': 4778, 'amb': 4779, 'affaires': 4780, \"fulfill'd\": 4781, 'abilitie': 4782, 'iumpe': 4783, 'bloodie': 4784, 'polake': 4785, 'warres': 4786, 'arriued': 4787, 'placed': 4788, 'vnknowing': 4789, 'carnall': 4790, 'bloudie': 4791, 'accidentall': 4792, 'casuall': 4793, 'slaughters': 4794, \"death's\": 4795, 'vpshot': 4796, 'mistooke': 4797, 'inuentors': 4798, 'noblest': 4799, 'claime': 4800, 'inuite': 4801, \"perform'd\": 4802, 'whiles': 4803, 'mindes': 4804, 'errors': 4805, 'happen': 4806, 'captaines': 4807, 'royally': 4808, 'souldiours': 4809, 'lowdly': 4810, 'field': 4811, 'amis': 4812, 'souldiers': 4813, 'marching': 4814, 'peale': 4815, 'ordenance': 4816, 'finis': 4817}\n"
          ]
        }
      ]
    },
    {
      "cell_type": "markdown",
      "source": [
        "Perform text-to-sequence conversion to turn text into a numerical format that machine learning models can understand, work with, and learn from.\n"
      ],
      "metadata": {
        "id": "CStG_bi_ZmiZ"
      }
    },
    {
      "cell_type": "code",
      "source": [
        "# Create input sequences\n",
        "# Each word in the text is replaced by its corresponding integer index based on the tokenizer's word index.\n",
        "input_sequences = []\n",
        "for line in text.split('\\n'):\n",
        "  token_list = tokenizer.texts_to_sequences([line])[0]\n",
        "  for i in range(1, len(token_list)):\n",
        "    n_gram_sequence = token_list[:i+1]\n",
        "    input_sequences.append(n_gram_sequence)\n",
        "\n",
        "print(input_sequences[:10])"
      ],
      "metadata": {
        "colab": {
          "base_uri": "https://localhost:8080/"
        },
        "id": "TSFry9SeXIuA",
        "outputId": "2681abfd-6588-4893-885f-a4ff7a7af2ad"
      },
      "execution_count": 9,
      "outputs": [
        {
          "output_type": "stream",
          "name": "stdout",
          "text": [
            "[[1, 687], [1, 687, 4], [1, 687, 4, 45], [1, 687, 4, 45, 41], [1, 687, 4, 45, 41, 1886], [1, 687, 4, 45, 41, 1886, 1887], [1, 687, 4, 45, 41, 1886, 1887, 1888], [1180, 1889], [1180, 1889, 1890], [1180, 1889, 1890, 1891]]\n"
          ]
        }
      ]
    },
    {
      "cell_type": "markdown",
      "source": [
        "Padding is crucial in NLP tasks because it ensures that input sequences have uniform length, which is required for effective processing by neural networks. It allows you to handle sequences of varying lengths without losing information, enables batch processing, and ensures compatibility with machine learning models."
      ],
      "metadata": {
        "id": "Br0UOb4UZj7f"
      }
    },
    {
      "cell_type": "code",
      "source": [
        "# Pad sequences\n",
        "\n",
        "# Find max_length\n",
        "max_length = max([len(seq) for seq in input_sequences])\n",
        "print(max_length)\n"
      ],
      "metadata": {
        "colab": {
          "base_uri": "https://localhost:8080/"
        },
        "id": "Wdx_xkcnX-PO",
        "outputId": "2bb2e0fc-0b80-4872-f050-8cfad4f33eff"
      },
      "execution_count": 10,
      "outputs": [
        {
          "output_type": "stream",
          "name": "stdout",
          "text": [
            "14\n"
          ]
        }
      ]
    },
    {
      "cell_type": "code",
      "source": [
        "input_sequence = np.array(pad_sequences(input_sequences, maxlen = max_length, padding = 'pre'))\n",
        "print(input_sequence[:10])\n"
      ],
      "metadata": {
        "colab": {
          "base_uri": "https://localhost:8080/"
        },
        "id": "InZ8gQ4GZS26",
        "outputId": "b19bb383-5fa4-47ea-b505-b4707a61b4f5"
      },
      "execution_count": 11,
      "outputs": [
        {
          "output_type": "stream",
          "name": "stdout",
          "text": [
            "[[   0    0    0    0    0    0    0    0    0    0    0    0    1  687]\n",
            " [   0    0    0    0    0    0    0    0    0    0    0    1  687    4]\n",
            " [   0    0    0    0    0    0    0    0    0    0    1  687    4   45]\n",
            " [   0    0    0    0    0    0    0    0    0    1  687    4   45   41]\n",
            " [   0    0    0    0    0    0    0    0    1  687    4   45   41 1886]\n",
            " [   0    0    0    0    0    0    0    1  687    4   45   41 1886 1887]\n",
            " [   0    0    0    0    0    0    1  687    4   45   41 1886 1887 1888]\n",
            " [   0    0    0    0    0    0    0    0    0    0    0    0 1180 1889]\n",
            " [   0    0    0    0    0    0    0    0    0    0    0 1180 1889 1890]\n",
            " [   0    0    0    0    0    0    0    0    0    0 1180 1889 1890 1891]]\n"
          ]
        }
      ]
    },
    {
      "cell_type": "code",
      "source": [
        "# Create predictors and labels\n",
        "import tensorflow as tf\n",
        "x, y = input_sequence[:,:-1], input_sequence[:,-1]\n",
        "for i in range(10):\n",
        "  print(x[i], \":\", y[i])"
      ],
      "metadata": {
        "colab": {
          "base_uri": "https://localhost:8080/"
        },
        "id": "8iMImAK1Z2me",
        "outputId": "f3af6619-9ae5-4060-f063-38375a09fdf2"
      },
      "execution_count": 12,
      "outputs": [
        {
          "output_type": "stream",
          "name": "stdout",
          "text": [
            "[0 0 0 0 0 0 0 0 0 0 0 0 1] : 687\n",
            "[  0   0   0   0   0   0   0   0   0   0   0   1 687] : 4\n",
            "[  0   0   0   0   0   0   0   0   0   0   1 687   4] : 45\n",
            "[  0   0   0   0   0   0   0   0   0   1 687   4  45] : 41\n",
            "[  0   0   0   0   0   0   0   0   1 687   4  45  41] : 1886\n",
            "[   0    0    0    0    0    0    0    1  687    4   45   41 1886] : 1887\n",
            "[   0    0    0    0    0    0    1  687    4   45   41 1886 1887] : 1888\n",
            "[   0    0    0    0    0    0    0    0    0    0    0    0 1180] : 1889\n",
            "[   0    0    0    0    0    0    0    0    0    0    0 1180 1889] : 1890\n",
            "[   0    0    0    0    0    0    0    0    0    0 1180 1889 1890] : 1891\n"
          ]
        }
      ]
    },
    {
      "cell_type": "markdown",
      "source": [
        "to_categorical converts the labels (y) into a one-hot encoded format.\n",
        "This is essential because the model needs to predict a probability distribution over all possible words, and one-hot encoding allows for calculating losses (like categorical cross-entropy) during training."
      ],
      "metadata": {
        "id": "OrIg18fycbVZ"
      }
    },
    {
      "cell_type": "code",
      "source": [
        "y = tf.keras.utils.to_categorical(y, num_classes = total_words)\n",
        "print(y[:20])"
      ],
      "metadata": {
        "colab": {
          "base_uri": "https://localhost:8080/"
        },
        "id": "pvR7Lb7tahAe",
        "outputId": "933266bb-f471-49a7-b36e-f7f7cb14e364"
      },
      "execution_count": 13,
      "outputs": [
        {
          "output_type": "stream",
          "name": "stdout",
          "text": [
            "[[0. 0. 0. ... 0. 0. 0.]\n",
            " [0. 0. 0. ... 0. 0. 0.]\n",
            " [0. 0. 0. ... 0. 0. 0.]\n",
            " ...\n",
            " [0. 0. 0. ... 0. 0. 0.]\n",
            " [0. 0. 0. ... 0. 0. 0.]\n",
            " [0. 0. 0. ... 0. 0. 0.]]\n"
          ]
        }
      ]
    },
    {
      "cell_type": "code",
      "source": [
        "# Split the data\n",
        "X_train, X_test, y_train, y_test = train_test_split(x, y, test_size=0.2)\n",
        "print(X_train.shape, y_train.shape)\n",
        "print(X_test.shape, y_test.shape)"
      ],
      "metadata": {
        "colab": {
          "base_uri": "https://localhost:8080/"
        },
        "id": "ReIYNpQmbLhe",
        "outputId": "7a474601-84e7-4467-9f0a-6ccbe77b0fe7"
      },
      "execution_count": 15,
      "outputs": [
        {
          "output_type": "stream",
          "name": "stdout",
          "text": [
            "(20585, 13) (20585, 4818)\n",
            "(5147, 13) (5147, 4818)\n"
          ]
        }
      ]
    },
    {
      "cell_type": "markdown",
      "source": [
        "# **Train LSTM model**"
      ],
      "metadata": {
        "id": "Lj9w_X68c8-2"
      }
    },
    {
      "cell_type": "markdown",
      "source": [
        "## **Build the model**"
      ],
      "metadata": {
        "id": "xpkW6Y5sea1A"
      }
    },
    {
      "cell_type": "code",
      "source": [
        "from tensorflow.keras.models import Sequential\n",
        "from tensorflow.keras.layers import Embedding, LSTM, Dense, Dropout\n",
        "\n",
        "# Define the model\n",
        "model = Sequential()\n",
        "model.add(Embedding(total_words, 100, input_length=max_length-1))\n",
        "model.add(LSTM(150,return_sequences = True))\n",
        "model.add(Dropout(0.2))\n",
        "model.add(LSTM(100))\n",
        "model.add(Dense(total_words, activation='softmax'))\n",
        "model.compile(loss='categorical_crossentropy', optimizer='adam', metrics=['accuracy'])\n",
        "model.summary()\n"
      ],
      "metadata": {
        "colab": {
          "base_uri": "https://localhost:8080/"
        },
        "id": "-NNmErCMc3aI",
        "outputId": "fe1fc215-51be-43e4-e06a-1b04f04962e3"
      },
      "execution_count": 21,
      "outputs": [
        {
          "output_type": "stream",
          "name": "stdout",
          "text": [
            "Model: \"sequential_3\"\n",
            "_________________________________________________________________\n",
            " Layer (type)                Output Shape              Param #   \n",
            "=================================================================\n",
            " embedding_3 (Embedding)     (None, 13, 100)           481800    \n",
            "                                                                 \n",
            " lstm_5 (LSTM)               (None, 13, 150)           150600    \n",
            "                                                                 \n",
            " dropout_2 (Dropout)         (None, 13, 150)           0         \n",
            "                                                                 \n",
            " lstm_6 (LSTM)               (None, 100)               100400    \n",
            "                                                                 \n",
            " dense_2 (Dense)             (None, 4818)              486618    \n",
            "                                                                 \n",
            "=================================================================\n",
            "Total params: 1219418 (4.65 MB)\n",
            "Trainable params: 1219418 (4.65 MB)\n",
            "Non-trainable params: 0 (0.00 Byte)\n",
            "_________________________________________________________________\n"
          ]
        }
      ]
    },
    {
      "cell_type": "code",
      "source": [
        "# Define early stopping\n",
        "from tensorflow.keras.callbacks import EarlyStopping\n",
        "early_stopping = EarlyStopping(monitor='accuracy', patience=3, restore_best_weights=True)"
      ],
      "metadata": {
        "id": "Ar8Mbol7fLva"
      },
      "execution_count": 24,
      "outputs": []
    },
    {
      "cell_type": "markdown",
      "source": [
        "## **Train the model**"
      ],
      "metadata": {
        "id": "skdVg_72ed1E"
      }
    },
    {
      "cell_type": "code",
      "source": [
        "history = model.fit(X_train, y_train, epochs=50, validation_data=(X_test, y_test), verbose=1, callbacks=[early_stopping])"
      ],
      "metadata": {
        "colab": {
          "base_uri": "https://localhost:8080/"
        },
        "id": "XxQ5NFiEeFiX",
        "outputId": "c685f40a-b23c-4fd4-e711-059e8ae05e5f"
      },
      "execution_count": 25,
      "outputs": [
        {
          "output_type": "stream",
          "name": "stdout",
          "text": [
            "Epoch 1/50\n",
            "644/644 [==============================] - 7s 11ms/step - loss: 6.4291 - accuracy: 0.0385 - val_loss: 6.9729 - val_accuracy: 0.0474\n",
            "Epoch 2/50\n",
            "644/644 [==============================] - 5s 9ms/step - loss: 6.2333 - accuracy: 0.0490 - val_loss: 6.9832 - val_accuracy: 0.0476\n",
            "Epoch 3/50\n",
            "644/644 [==============================] - 7s 10ms/step - loss: 6.1003 - accuracy: 0.0507 - val_loss: 7.0376 - val_accuracy: 0.0484\n",
            "Epoch 4/50\n",
            "644/644 [==============================] - 6s 10ms/step - loss: 5.9856 - accuracy: 0.0557 - val_loss: 7.0757 - val_accuracy: 0.0493\n",
            "Epoch 5/50\n",
            "644/644 [==============================] - 8s 12ms/step - loss: 5.8838 - accuracy: 0.0583 - val_loss: 7.1228 - val_accuracy: 0.0515\n",
            "Epoch 6/50\n",
            "644/644 [==============================] - 7s 10ms/step - loss: 5.7766 - accuracy: 0.0638 - val_loss: 7.1941 - val_accuracy: 0.0587\n",
            "Epoch 7/50\n",
            "644/644 [==============================] - 10s 15ms/step - loss: 5.6712 - accuracy: 0.0695 - val_loss: 7.2937 - val_accuracy: 0.0587\n",
            "Epoch 8/50\n",
            "644/644 [==============================] - 6s 9ms/step - loss: 5.5641 - accuracy: 0.0733 - val_loss: 7.3525 - val_accuracy: 0.0567\n",
            "Epoch 9/50\n",
            "644/644 [==============================] - 7s 11ms/step - loss: 5.4566 - accuracy: 0.0800 - val_loss: 7.4652 - val_accuracy: 0.0647\n",
            "Epoch 10/50\n",
            "644/644 [==============================] - 6s 9ms/step - loss: 5.3409 - accuracy: 0.0852 - val_loss: 7.5321 - val_accuracy: 0.0629\n",
            "Epoch 11/50\n",
            "644/644 [==============================] - 7s 11ms/step - loss: 5.2296 - accuracy: 0.0911 - val_loss: 7.6464 - val_accuracy: 0.0684\n",
            "Epoch 12/50\n",
            "644/644 [==============================] - 7s 10ms/step - loss: 5.1159 - accuracy: 0.0983 - val_loss: 7.7420 - val_accuracy: 0.0663\n",
            "Epoch 13/50\n",
            "644/644 [==============================] - 7s 11ms/step - loss: 5.0098 - accuracy: 0.1029 - val_loss: 7.8632 - val_accuracy: 0.0711\n",
            "Epoch 14/50\n",
            "644/644 [==============================] - 6s 9ms/step - loss: 4.9085 - accuracy: 0.1056 - val_loss: 7.9669 - val_accuracy: 0.0696\n",
            "Epoch 15/50\n",
            "644/644 [==============================] - 6s 10ms/step - loss: 4.8093 - accuracy: 0.1108 - val_loss: 8.0917 - val_accuracy: 0.0723\n",
            "Epoch 16/50\n",
            "644/644 [==============================] - 7s 11ms/step - loss: 4.7131 - accuracy: 0.1162 - val_loss: 8.2242 - val_accuracy: 0.0670\n",
            "Epoch 17/50\n",
            "644/644 [==============================] - 7s 11ms/step - loss: 4.6254 - accuracy: 0.1193 - val_loss: 8.3067 - val_accuracy: 0.0707\n",
            "Epoch 18/50\n",
            "644/644 [==============================] - 6s 10ms/step - loss: 4.5395 - accuracy: 0.1260 - val_loss: 8.4327 - val_accuracy: 0.0682\n",
            "Epoch 19/50\n",
            "644/644 [==============================] - 6s 10ms/step - loss: 4.4530 - accuracy: 0.1314 - val_loss: 8.5535 - val_accuracy: 0.0666\n",
            "Epoch 20/50\n",
            "644/644 [==============================] - 7s 11ms/step - loss: 4.3696 - accuracy: 0.1383 - val_loss: 8.6519 - val_accuracy: 0.0715\n",
            "Epoch 21/50\n",
            "644/644 [==============================] - 6s 10ms/step - loss: 4.2872 - accuracy: 0.1455 - val_loss: 8.7648 - val_accuracy: 0.0697\n",
            "Epoch 22/50\n",
            "644/644 [==============================] - 7s 10ms/step - loss: 4.2157 - accuracy: 0.1532 - val_loss: 8.8610 - val_accuracy: 0.0657\n",
            "Epoch 23/50\n",
            "644/644 [==============================] - 6s 10ms/step - loss: 4.1350 - accuracy: 0.1638 - val_loss: 9.0220 - val_accuracy: 0.0680\n",
            "Epoch 24/50\n",
            "644/644 [==============================] - 9s 14ms/step - loss: 4.0674 - accuracy: 0.1742 - val_loss: 9.1293 - val_accuracy: 0.0705\n",
            "Epoch 25/50\n",
            "644/644 [==============================] - 8s 12ms/step - loss: 3.9951 - accuracy: 0.1835 - val_loss: 9.2261 - val_accuracy: 0.0635\n",
            "Epoch 26/50\n",
            "644/644 [==============================] - 6s 9ms/step - loss: 3.9261 - accuracy: 0.1955 - val_loss: 9.3355 - val_accuracy: 0.0649\n",
            "Epoch 27/50\n",
            "644/644 [==============================] - 7s 11ms/step - loss: 3.8673 - accuracy: 0.2044 - val_loss: 9.4760 - val_accuracy: 0.0606\n",
            "Epoch 28/50\n",
            "644/644 [==============================] - 6s 9ms/step - loss: 3.8028 - accuracy: 0.2141 - val_loss: 9.5988 - val_accuracy: 0.0622\n",
            "Epoch 29/50\n",
            "644/644 [==============================] - 6s 10ms/step - loss: 3.7393 - accuracy: 0.2282 - val_loss: 9.6763 - val_accuracy: 0.0628\n",
            "Epoch 30/50\n",
            "644/644 [==============================] - 6s 10ms/step - loss: 3.6847 - accuracy: 0.2350 - val_loss: 9.7660 - val_accuracy: 0.0622\n",
            "Epoch 31/50\n",
            "644/644 [==============================] - 6s 9ms/step - loss: 3.6297 - accuracy: 0.2453 - val_loss: 9.8655 - val_accuracy: 0.0593\n",
            "Epoch 32/50\n",
            "644/644 [==============================] - 7s 11ms/step - loss: 3.5699 - accuracy: 0.2517 - val_loss: 9.9707 - val_accuracy: 0.0610\n",
            "Epoch 33/50\n",
            "644/644 [==============================] - 6s 10ms/step - loss: 3.5153 - accuracy: 0.2627 - val_loss: 10.0765 - val_accuracy: 0.0593\n",
            "Epoch 34/50\n",
            "644/644 [==============================] - 7s 11ms/step - loss: 3.4662 - accuracy: 0.2696 - val_loss: 10.1702 - val_accuracy: 0.0596\n",
            "Epoch 35/50\n",
            "644/644 [==============================] - 6s 9ms/step - loss: 3.4141 - accuracy: 0.2822 - val_loss: 10.2542 - val_accuracy: 0.0600\n",
            "Epoch 36/50\n",
            "644/644 [==============================] - 7s 12ms/step - loss: 3.3669 - accuracy: 0.2923 - val_loss: 10.3337 - val_accuracy: 0.0606\n",
            "Epoch 37/50\n",
            "644/644 [==============================] - 6s 9ms/step - loss: 3.3152 - accuracy: 0.3004 - val_loss: 10.4286 - val_accuracy: 0.0596\n",
            "Epoch 38/50\n",
            "644/644 [==============================] - 7s 10ms/step - loss: 3.2692 - accuracy: 0.3035 - val_loss: 10.5036 - val_accuracy: 0.0573\n",
            "Epoch 39/50\n",
            "644/644 [==============================] - 6s 9ms/step - loss: 3.2226 - accuracy: 0.3109 - val_loss: 10.6192 - val_accuracy: 0.0569\n",
            "Epoch 40/50\n",
            "644/644 [==============================] - 6s 9ms/step - loss: 3.1786 - accuracy: 0.3246 - val_loss: 10.7119 - val_accuracy: 0.0565\n",
            "Epoch 41/50\n",
            "644/644 [==============================] - 7s 11ms/step - loss: 3.1349 - accuracy: 0.3306 - val_loss: 10.7840 - val_accuracy: 0.0561\n",
            "Epoch 42/50\n",
            "644/644 [==============================] - 7s 11ms/step - loss: 3.0919 - accuracy: 0.3365 - val_loss: 10.8620 - val_accuracy: 0.0575\n",
            "Epoch 43/50\n",
            "644/644 [==============================] - 8s 13ms/step - loss: 3.0449 - accuracy: 0.3484 - val_loss: 10.9157 - val_accuracy: 0.0577\n",
            "Epoch 44/50\n",
            "644/644 [==============================] - 8s 12ms/step - loss: 3.0123 - accuracy: 0.3500 - val_loss: 11.0217 - val_accuracy: 0.0585\n",
            "Epoch 45/50\n",
            "644/644 [==============================] - 6s 9ms/step - loss: 2.9689 - accuracy: 0.3606 - val_loss: 11.0955 - val_accuracy: 0.0589\n",
            "Epoch 46/50\n",
            "644/644 [==============================] - 6s 9ms/step - loss: 2.9303 - accuracy: 0.3670 - val_loss: 11.1766 - val_accuracy: 0.0587\n",
            "Epoch 47/50\n",
            "644/644 [==============================] - 6s 10ms/step - loss: 2.8886 - accuracy: 0.3759 - val_loss: 11.2494 - val_accuracy: 0.0602\n",
            "Epoch 48/50\n",
            "644/644 [==============================] - 6s 9ms/step - loss: 2.8538 - accuracy: 0.3842 - val_loss: 11.2864 - val_accuracy: 0.0581\n",
            "Epoch 49/50\n",
            "644/644 [==============================] - 7s 11ms/step - loss: 2.8151 - accuracy: 0.3912 - val_loss: 11.3627 - val_accuracy: 0.0575\n",
            "Epoch 50/50\n",
            "644/644 [==============================] - 6s 9ms/step - loss: 2.7827 - accuracy: 0.3953 - val_loss: 11.4156 - val_accuracy: 0.0563\n"
          ]
        }
      ]
    },
    {
      "cell_type": "code",
      "source": [
        "\n",
        "\n",
        "import matplotlib.pyplot as plt\n",
        "\n",
        "# Plot training & validation accuracy values\n",
        "plt.plot(history.history['accuracy'])\n",
        "plt.plot(history.history['val_accuracy'])\n",
        "plt.title('Model accuracy')\n",
        "plt.ylabel('Accuracy')\n",
        "plt.xlabel('Epoch')\n",
        "plt.legend(['Train', 'Test'], loc='upper left')\n",
        "plt.show()\n",
        "\n",
        "# Plot training & validation loss values\n",
        "plt.plot(history.history['loss'])\n",
        "plt.plot(history.history['val_loss'])\n",
        "plt.title('Model loss')\n",
        "plt.ylabel('Loss')\n",
        "plt.xlabel('Epoch')\n",
        "plt.legend(['Train', 'Test'], loc='upper left')\n",
        "plt.show()"
      ],
      "metadata": {
        "colab": {
          "base_uri": "https://localhost:8080/",
          "height": 927
        },
        "id": "qbKTnYOoew3C",
        "outputId": "bdde0296-ec87-4909-a725-845eac6a0808"
      },
      "execution_count": 26,
      "outputs": [
        {
          "output_type": "display_data",
          "data": {
            "text/plain": [
              "<Figure size 640x480 with 1 Axes>"
            ],
            "image/png": "[encoded data removed]"
          },
          "metadata": {}
        },
        {
          "output_type": "display_data",
          "data": {
            "text/plain": [
              "<Figure size 640x480 with 1 Axes>"
            ],
            "image/png": "[encoded data removed]"
          },
          "metadata": {}
        }
      ]
    },
    {
      "cell_type": "markdown",
      "source": [
        "# **Prediction uisng the model**"
      ],
      "metadata": {
        "id": "fgLZ6IyEgQpt"
      }
    },
    {
      "cell_type": "code",
      "source": [
        "# Function to predict the next word\n",
        "def predict_next_word(model, tokenizer, text, max_sequence_len):\n",
        "    token_list = tokenizer.texts_to_sequences([text])[0]\n",
        "    if len(token_list) >= max_sequence_len:\n",
        "        token_list = token_list[-(max_sequence_len-1):]  # Ensure the sequence length matches max_sequence_len-1\n",
        "    token_list = pad_sequences([token_list], maxlen=max_sequence_len-1, padding='pre')\n",
        "    predicted = model.predict(token_list, verbose=0)\n",
        "    predicted_word_index = np.argmax(predicted, axis=1)\n",
        "    for word, index in tokenizer.word_index.items():\n",
        "        if index == predicted_word_index:\n",
        "            return word\n",
        "    return None"
      ],
      "metadata": {
        "id": "-iCCWC5kgTfI"
      },
      "execution_count": 27,
      "outputs": []
    },
    {
      "cell_type": "code",
      "source": [
        "input_text=\"I thinke I heare\"\n",
        "print(f\"Input text:{input_text}\")\n",
        "max_sequence_len=model.input_shape[1]+1\n",
        "next_word=predict_next_word(model,tokenizer,input_text,max_sequence_len)\n",
        "print(f\"Next Word PRediction:{next_word}\")"
      ],
      "metadata": {
        "colab": {
          "base_uri": "https://localhost:8080/"
        },
        "id": "m9GrEnV9gXUH",
        "outputId": "e8943cdf-c713-4cc3-a437-61c6e75b9c31"
      },
      "execution_count": 32,
      "outputs": [
        {
          "output_type": "stream",
          "name": "stdout",
          "text": [
            "Input text:I thinke I heare\n",
            "Next Word PRediction:him\n"
          ]
        }
      ]
    },
    {
      "cell_type": "code",
      "source": [
        "input_text=\"And let vs once againe\"\n",
        "print(f\"Input text:{input_text}\")\n",
        "max_sequence_len=model.input_shape[1]+1\n",
        "next_word=predict_next_word(model,tokenizer,input_text,max_sequence_len)\n",
        "print(f\"Next Word PRediction:{next_word}\")"
      ],
      "metadata": {
        "colab": {
          "base_uri": "https://localhost:8080/"
        },
        "id": "YiPuJNDZhvay",
        "outputId": "fe71677a-122e-4df3-9b0b-9530fa5a5f4e"
      },
      "execution_count": 35,
      "outputs": [
        {
          "output_type": "stream",
          "name": "stdout",
          "text": [
            "Input text:And let vs once againe\n",
            "Next Word PRediction:assaile\n"
          ]
        }
      ]
    },
    {
      "cell_type": "markdown",
      "source": [
        "# **Save the model**\n"
      ],
      "metadata": {
        "id": "6gadkI4IgvfJ"
      }
    },
    {
      "cell_type": "code",
      "source": [
        "model.save(\"next_word_lstm.h5\")\n",
        "## Save the tokenizer\n",
        "import pickle\n",
        "with open('tokenizer.pickle','wb') as handle:\n",
        "    pickle.dump(tokenizer,handle,protocol=pickle.HIGHEST_PROTOCOL)"
      ],
      "metadata": {
        "colab": {
          "base_uri": "https://localhost:8080/"
        },
        "id": "sLOKThdwgxmT",
        "outputId": "dc847d0a-9483-4883-80ef-c0d942306ced"
      },
      "execution_count": 33,
      "outputs": [
        {
          "output_type": "stream",
          "name": "stderr",
          "text": [
            "/usr/local/lib/python3.10/dist-packages/keras/src/engine/training.py:3103: UserWarning: You are saving your model as an HDF5 file via `model.save()`. This file format is considered legacy. We recommend using instead the native Keras format, e.g. `model.save('my_model.keras')`.\n",
            "  saving_api.save_model(\n"
          ]
        }
      ]
    },
    {
      "cell_type": "code",
      "source": [],
      "metadata": {
        "id": "mCDy_Sz4hnf-"
      },
      "execution_count": null,
      "outputs": []
    }
  ]
}